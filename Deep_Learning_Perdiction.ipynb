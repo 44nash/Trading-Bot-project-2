{
 "cells": [
  {
   "cell_type": "code",
   "execution_count": 1,
   "metadata": {},
   "outputs": [
    {
     "name": "stderr",
     "output_type": "stream",
     "text": [
      "\n",
      "Bad key \"text.kerning_factor\" on line 4 in\n",
      "C:\\Users\\44nas\\anaconda3\\envs\\pyvizenv\\lib\\site-packages\\matplotlib\\mpl-data\\stylelib\\_classic_test_patch.mplstyle.\n",
      "You probably need to get an updated matplotlibrc file from\n",
      "http://github.com/matplotlib/matplotlib/blob/master/matplotlibrc.template\n",
      "or from the matplotlib source distribution\n"
     ]
    }
   ],
   "source": [
    "# Import the usual suspects....\n",
    "import numpy as np\n",
    "import pandas as pd\n",
    "import matplotlib.pyplot as plt\n",
    "from sklearn.pipeline import Pipeline\n",
    "\n",
    "\n",
    "import pandas_datareader as pdr\n",
    "import datetime as dt\n",
    "import quandl\n",
    "\n",
    "\n",
    "import pandas as pd\n",
    "import numpy as np\n",
    "import requests\n",
    "from termcolor import colored as cl\n",
    "from math import floor\n",
    "import matplotlib.pyplot as plt\n",
    "plt.rcParams['figure.figsize'] = (20, 10)\n",
    "plt.style.use('fivethirtyeight')\n",
    "\n",
    "\n",
    "import os\n",
    "import random\n",
    "import numpy as np\n",
    "from pylab import mpl, plt\n",
    "plt.style.use('seaborn')\n",
    "mpl.rcParams['savefig.dpi'] = 300\n",
    "mpl.rcParams['font.family'] = 'serif'\n",
    "\n",
    "import alpaca_trade_api as tradeapi\n",
    "from dotenv import load_dotenv\n",
    "import os\n",
    "import pandas as pd\n"
   ]
  },
  {
   "cell_type": "code",
   "execution_count": 2,
   "metadata": {},
   "outputs": [],
   "source": [
    "from get_api_df import *"
   ]
  },
  {
   "cell_type": "code",
   "execution_count": 3,
   "metadata": {},
   "outputs": [
    {
     "name": "stderr",
     "output_type": "stream",
     "text": [
      "Python-dotenv could not parse statement starting at line 11\n"
     ]
    }
   ],
   "source": [
    "ticker = get_api_df()"
   ]
  },
  {
   "cell_type": "code",
   "execution_count": 4,
   "metadata": {},
   "outputs": [
    {
     "data": {
      "text/html": [
       "<div>\n",
       "<style scoped>\n",
       "    .dataframe tbody tr th:only-of-type {\n",
       "        vertical-align: middle;\n",
       "    }\n",
       "\n",
       "    .dataframe tbody tr th {\n",
       "        vertical-align: top;\n",
       "    }\n",
       "\n",
       "    .dataframe thead th {\n",
       "        text-align: right;\n",
       "    }\n",
       "</style>\n",
       "<table border=\"1\" class=\"dataframe\">\n",
       "  <thead>\n",
       "    <tr style=\"text-align: right;\">\n",
       "      <th></th>\n",
       "      <th>open</th>\n",
       "      <th>high</th>\n",
       "      <th>low</th>\n",
       "      <th>close</th>\n",
       "      <th>volume</th>\n",
       "    </tr>\n",
       "    <tr>\n",
       "      <th>time</th>\n",
       "      <th></th>\n",
       "      <th></th>\n",
       "      <th></th>\n",
       "      <th></th>\n",
       "      <th></th>\n",
       "    </tr>\n",
       "  </thead>\n",
       "  <tbody>\n",
       "    <tr>\n",
       "      <th>2021-06-28 00:00:00-04:00</th>\n",
       "      <td>133.42</td>\n",
       "      <td>135.245</td>\n",
       "      <td>133.350</td>\n",
       "      <td>134.75</td>\n",
       "      <td>53815255</td>\n",
       "    </tr>\n",
       "    <tr>\n",
       "      <th>2021-06-29 00:00:00-04:00</th>\n",
       "      <td>134.82</td>\n",
       "      <td>136.490</td>\n",
       "      <td>134.350</td>\n",
       "      <td>136.33</td>\n",
       "      <td>55081959</td>\n",
       "    </tr>\n",
       "    <tr>\n",
       "      <th>2021-06-30 00:00:00-04:00</th>\n",
       "      <td>136.17</td>\n",
       "      <td>137.410</td>\n",
       "      <td>135.870</td>\n",
       "      <td>136.94</td>\n",
       "      <td>51014239</td>\n",
       "    </tr>\n",
       "    <tr>\n",
       "      <th>2021-07-01 00:00:00-04:00</th>\n",
       "      <td>136.60</td>\n",
       "      <td>137.330</td>\n",
       "      <td>135.760</td>\n",
       "      <td>137.27</td>\n",
       "      <td>46267213</td>\n",
       "    </tr>\n",
       "    <tr>\n",
       "      <th>2021-07-02 00:00:00-04:00</th>\n",
       "      <td>137.92</td>\n",
       "      <td>140.000</td>\n",
       "      <td>137.745</td>\n",
       "      <td>139.96</td>\n",
       "      <td>69160944</td>\n",
       "    </tr>\n",
       "  </tbody>\n",
       "</table>\n",
       "</div>"
      ],
      "text/plain": [
       "                             open     high      low   close    volume\n",
       "time                                                                 \n",
       "2021-06-28 00:00:00-04:00  133.42  135.245  133.350  134.75  53815255\n",
       "2021-06-29 00:00:00-04:00  134.82  136.490  134.350  136.33  55081959\n",
       "2021-06-30 00:00:00-04:00  136.17  137.410  135.870  136.94  51014239\n",
       "2021-07-01 00:00:00-04:00  136.60  137.330  135.760  137.27  46267213\n",
       "2021-07-02 00:00:00-04:00  137.92  140.000  137.745  139.96  69160944"
      ]
     },
     "execution_count": 4,
     "metadata": {},
     "output_type": "execute_result"
    }
   ],
   "source": [
    "ticker.tail()"
   ]
  },
  {
   "cell_type": "code",
   "execution_count": 5,
   "metadata": {},
   "outputs": [],
   "source": [
    "ticker['return'] = np.log(ticker['close'] / \n",
    "                        ticker['close'].shift(1))"
   ]
  },
  {
   "cell_type": "code",
   "execution_count": 6,
   "metadata": {},
   "outputs": [],
   "source": [
    "ticker['direction'] = np.where(ticker['return'] > 0, 1, 0)"
   ]
  },
  {
   "cell_type": "code",
   "execution_count": 7,
   "metadata": {},
   "outputs": [],
   "source": [
    "lags = 5\n",
    "\n",
    "cols = []\n",
    "for lag in range(1, lags + 1):\n",
    "    col = f'lag_{lag}'\n",
    "    ticker[col] = ticker['return'].shift(lag)\n",
    "    cols.append(col)\n",
    "\n",
    "ticker.dropna(inplace=True)"
   ]
  },
  {
   "cell_type": "code",
   "execution_count": 8,
   "metadata": {},
   "outputs": [
    {
     "data": {
      "text/html": [
       "<div>\n",
       "<style scoped>\n",
       "    .dataframe tbody tr th:only-of-type {\n",
       "        vertical-align: middle;\n",
       "    }\n",
       "\n",
       "    .dataframe tbody tr th {\n",
       "        vertical-align: top;\n",
       "    }\n",
       "\n",
       "    .dataframe thead th {\n",
       "        text-align: right;\n",
       "    }\n",
       "</style>\n",
       "<table border=\"1\" class=\"dataframe\">\n",
       "  <thead>\n",
       "    <tr style=\"text-align: right;\">\n",
       "      <th></th>\n",
       "      <th>open</th>\n",
       "      <th>high</th>\n",
       "      <th>low</th>\n",
       "      <th>close</th>\n",
       "      <th>volume</th>\n",
       "      <th>return</th>\n",
       "      <th>direction</th>\n",
       "      <th>lag_1</th>\n",
       "      <th>lag_2</th>\n",
       "      <th>lag_3</th>\n",
       "      <th>lag_4</th>\n",
       "      <th>lag_5</th>\n",
       "    </tr>\n",
       "    <tr>\n",
       "      <th>time</th>\n",
       "      <th></th>\n",
       "      <th></th>\n",
       "      <th></th>\n",
       "      <th></th>\n",
       "      <th></th>\n",
       "      <th></th>\n",
       "      <th></th>\n",
       "      <th></th>\n",
       "      <th></th>\n",
       "      <th></th>\n",
       "      <th></th>\n",
       "      <th></th>\n",
       "    </tr>\n",
       "  </thead>\n",
       "  <tbody>\n",
       "    <tr>\n",
       "      <th>2021-06-28 00:00:00-04:00</th>\n",
       "      <td>133.42</td>\n",
       "      <td>135.245</td>\n",
       "      <td>133.350</td>\n",
       "      <td>134.75</td>\n",
       "      <td>53815255</td>\n",
       "      <td>0.0122</td>\n",
       "      <td>1</td>\n",
       "      <td>-0.0022</td>\n",
       "      <td>-0.0022</td>\n",
       "      <td>-0.0020</td>\n",
       "      <td>0.0126</td>\n",
       "      <td>0.0144</td>\n",
       "    </tr>\n",
       "    <tr>\n",
       "      <th>2021-06-29 00:00:00-04:00</th>\n",
       "      <td>134.82</td>\n",
       "      <td>136.490</td>\n",
       "      <td>134.350</td>\n",
       "      <td>136.33</td>\n",
       "      <td>55081959</td>\n",
       "      <td>0.0117</td>\n",
       "      <td>1</td>\n",
       "      <td>0.0122</td>\n",
       "      <td>-0.0022</td>\n",
       "      <td>-0.0022</td>\n",
       "      <td>-0.0020</td>\n",
       "      <td>0.0126</td>\n",
       "    </tr>\n",
       "    <tr>\n",
       "      <th>2021-06-30 00:00:00-04:00</th>\n",
       "      <td>136.17</td>\n",
       "      <td>137.410</td>\n",
       "      <td>135.870</td>\n",
       "      <td>136.94</td>\n",
       "      <td>51014239</td>\n",
       "      <td>0.0045</td>\n",
       "      <td>1</td>\n",
       "      <td>0.0117</td>\n",
       "      <td>0.0122</td>\n",
       "      <td>-0.0022</td>\n",
       "      <td>-0.0022</td>\n",
       "      <td>-0.0020</td>\n",
       "    </tr>\n",
       "    <tr>\n",
       "      <th>2021-07-01 00:00:00-04:00</th>\n",
       "      <td>136.60</td>\n",
       "      <td>137.330</td>\n",
       "      <td>135.760</td>\n",
       "      <td>137.27</td>\n",
       "      <td>46267213</td>\n",
       "      <td>0.0024</td>\n",
       "      <td>1</td>\n",
       "      <td>0.0045</td>\n",
       "      <td>0.0117</td>\n",
       "      <td>0.0122</td>\n",
       "      <td>-0.0022</td>\n",
       "      <td>-0.0022</td>\n",
       "    </tr>\n",
       "    <tr>\n",
       "      <th>2021-07-02 00:00:00-04:00</th>\n",
       "      <td>137.92</td>\n",
       "      <td>140.000</td>\n",
       "      <td>137.745</td>\n",
       "      <td>139.96</td>\n",
       "      <td>69160944</td>\n",
       "      <td>0.0194</td>\n",
       "      <td>1</td>\n",
       "      <td>0.0024</td>\n",
       "      <td>0.0045</td>\n",
       "      <td>0.0117</td>\n",
       "      <td>0.0122</td>\n",
       "      <td>-0.0022</td>\n",
       "    </tr>\n",
       "  </tbody>\n",
       "</table>\n",
       "</div>"
      ],
      "text/plain": [
       "                             open     high      low   close    volume  return  \\\n",
       "time                                                                            \n",
       "2021-06-28 00:00:00-04:00  133.42  135.245  133.350  134.75  53815255  0.0122   \n",
       "2021-06-29 00:00:00-04:00  134.82  136.490  134.350  136.33  55081959  0.0117   \n",
       "2021-06-30 00:00:00-04:00  136.17  137.410  135.870  136.94  51014239  0.0045   \n",
       "2021-07-01 00:00:00-04:00  136.60  137.330  135.760  137.27  46267213  0.0024   \n",
       "2021-07-02 00:00:00-04:00  137.92  140.000  137.745  139.96  69160944  0.0194   \n",
       "\n",
       "                           direction   lag_1   lag_2   lag_3   lag_4   lag_5  \n",
       "time                                                                          \n",
       "2021-06-28 00:00:00-04:00          1 -0.0022 -0.0022 -0.0020  0.0126  0.0144  \n",
       "2021-06-29 00:00:00-04:00          1  0.0122 -0.0022 -0.0022 -0.0020  0.0126  \n",
       "2021-06-30 00:00:00-04:00          1  0.0117  0.0122 -0.0022 -0.0022 -0.0020  \n",
       "2021-07-01 00:00:00-04:00          1  0.0045  0.0117  0.0122 -0.0022 -0.0022  \n",
       "2021-07-02 00:00:00-04:00          1  0.0024  0.0045  0.0117  0.0122 -0.0022  "
      ]
     },
     "execution_count": 8,
     "metadata": {},
     "output_type": "execute_result"
    }
   ],
   "source": [
    "ticker.round(4).tail()"
   ]
  },
  {
   "cell_type": "code",
   "execution_count": 9,
   "metadata": {},
   "outputs": [],
   "source": [
    "import tensorflow as tf\n",
    "from tensorflow.keras.models import Sequential \n",
    "from tensorflow.keras.layers import Dense \n",
    "from tensorflow.keras.optimizers import Adam, RMSprop "
   ]
  },
  {
   "cell_type": "code",
   "execution_count": 10,
   "metadata": {},
   "outputs": [],
   "source": [
    "optimizer = Adam(learning_rate=0.0001)"
   ]
  },
  {
   "cell_type": "code",
   "execution_count": 11,
   "metadata": {},
   "outputs": [],
   "source": [
    "def set_seeds(seed=100):\n",
    "    random.seed(seed)\n",
    "    np.random.seed(seed)\n",
    "    tf.random.set_seed(100)"
   ]
  },
  {
   "cell_type": "code",
   "execution_count": 12,
   "metadata": {},
   "outputs": [],
   "source": [
    "# set_seeds()\n",
    "# model = Sequential()\n",
    "# model.add(Dense(64, activation='relu',\n",
    "#                input_shape=(lags,)))\n",
    "# model.add(Dense(64, activation='relu'))\n",
    "# model.add(Dense(1, activation='sigmoid'))\n",
    "\n",
    "# model.compile(optimizer=optimizer,\n",
    "#              loss='binary_crossentropy',\n",
    "#              metrics=['accuracy'])"
   ]
  },
  {
   "cell_type": "code",
   "execution_count": null,
   "metadata": {},
   "outputs": [],
   "source": []
  },
  {
   "cell_type": "code",
   "execution_count": 13,
   "metadata": {},
   "outputs": [],
   "source": [
    "ticker['momentum'] = ticker['return'].rolling(5).mean().shift(1)"
   ]
  },
  {
   "cell_type": "code",
   "execution_count": 14,
   "metadata": {},
   "outputs": [],
   "source": [
    "ticker['volatility'] = ticker['return'].rolling(20).std().shift(1)"
   ]
  },
  {
   "cell_type": "code",
   "execution_count": 15,
   "metadata": {},
   "outputs": [],
   "source": [
    "ticker['distance'] = (ticker['close'] - \n",
    "                   ticker['close'].rolling(50).mean()).shift(1)"
   ]
  },
  {
   "cell_type": "code",
   "execution_count": 16,
   "metadata": {},
   "outputs": [],
   "source": [
    "ticker.dropna(inplace=True)"
   ]
  },
  {
   "cell_type": "code",
   "execution_count": 17,
   "metadata": {},
   "outputs": [],
   "source": [
    "cols.extend(['momentum', 'volatility', 'distance'])"
   ]
  },
  {
   "cell_type": "code",
   "execution_count": 18,
   "metadata": {},
   "outputs": [
    {
     "name": "stdout",
     "output_type": "stream",
     "text": [
      "                             open     high      low   close    volume  return  \\\n",
      "time                                                                            \n",
      "2021-06-28 00:00:00-04:00  133.42  135.245  133.350  134.75  53815255  0.0122   \n",
      "2021-06-29 00:00:00-04:00  134.82  136.490  134.350  136.33  55081959  0.0117   \n",
      "2021-06-30 00:00:00-04:00  136.17  137.410  135.870  136.94  51014239  0.0045   \n",
      "2021-07-01 00:00:00-04:00  136.60  137.330  135.760  137.27  46267213  0.0024   \n",
      "2021-07-02 00:00:00-04:00  137.92  140.000  137.745  139.96  69160944  0.0194   \n",
      "\n",
      "                           direction   lag_1   lag_2   lag_3   lag_4   lag_5  \\\n",
      "time                                                                           \n",
      "2021-06-28 00:00:00-04:00          1 -0.0022 -0.0022 -0.0020  0.0126  0.0144   \n",
      "2021-06-29 00:00:00-04:00          1  0.0122 -0.0022 -0.0022 -0.0020  0.0126   \n",
      "2021-06-30 00:00:00-04:00          1  0.0117  0.0122 -0.0022 -0.0022 -0.0020   \n",
      "2021-07-01 00:00:00-04:00          1  0.0045  0.0117  0.0122 -0.0022 -0.0022   \n",
      "2021-07-02 00:00:00-04:00          1  0.0024  0.0045  0.0117  0.0122 -0.0022   \n",
      "\n",
      "                           momentum  volatility  distance  \n",
      "time                                                       \n",
      "2021-06-28 00:00:00-04:00    0.0041      0.0100    3.9725  \n",
      "2021-06-29 00:00:00-04:00    0.0037      0.0100    5.6005  \n",
      "2021-06-30 00:00:00-04:00    0.0035      0.0100    7.1523  \n",
      "2021-07-01 00:00:00-04:00    0.0048      0.0100    7.6859  \n",
      "2021-07-02 00:00:00-04:00    0.0057      0.0092    7.9403  \n"
     ]
    }
   ],
   "source": [
    "print(ticker.round(4).tail())"
   ]
  },
  {
   "cell_type": "code",
   "execution_count": null,
   "metadata": {},
   "outputs": [],
   "source": []
  },
  {
   "cell_type": "markdown",
   "metadata": {},
   "source": [
    "#### check the correct date format"
   ]
  },
  {
   "cell_type": "code",
   "execution_count": 19,
   "metadata": {},
   "outputs": [],
   "source": [
    "# print(ticker.index[0])"
   ]
  },
  {
   "cell_type": "code",
   "execution_count": 20,
   "metadata": {},
   "outputs": [],
   "source": [
    "# cutoff = '2021-01-01 00:00:00-04:00'\n",
    "cutoff = '2021-05-19 00:00:00-05:00'"
   ]
  },
  {
   "cell_type": "code",
   "execution_count": 21,
   "metadata": {},
   "outputs": [],
   "source": [
    "training_ticker = ticker[ticker.index < cutoff].copy()\n",
    "# training_ticker.head()"
   ]
  },
  {
   "cell_type": "code",
   "execution_count": 22,
   "metadata": {},
   "outputs": [],
   "source": [
    "mu, std = training_ticker.mean(), training_ticker.std()"
   ]
  },
  {
   "cell_type": "code",
   "execution_count": 23,
   "metadata": {},
   "outputs": [],
   "source": [
    "training_ticker_ = (training_ticker - mu) / std\n",
    "# training_ticker_.head()"
   ]
  },
  {
   "cell_type": "code",
   "execution_count": 24,
   "metadata": {},
   "outputs": [],
   "source": [
    "test_ticker = ticker[ticker.index >= cutoff].copy()\n",
    "# test_ticker.head()"
   ]
  },
  {
   "cell_type": "code",
   "execution_count": 25,
   "metadata": {},
   "outputs": [],
   "source": [
    "test_ticker_ = (test_ticker - mu) / std\n",
    "# test_ticker_.head()"
   ]
  },
  {
   "cell_type": "code",
   "execution_count": null,
   "metadata": {},
   "outputs": [],
   "source": []
  },
  {
   "cell_type": "code",
   "execution_count": 26,
   "metadata": {},
   "outputs": [],
   "source": [
    "set_seeds()\n",
    "model = Sequential()\n",
    "model.add(Dense(32, activation='relu',\n",
    "               input_shape=(len(cols),)))\n",
    "model.add(Dense(32, activation='relu'))\n",
    "model.add(Dense(1, activation='sigmoid'))\n",
    "\n",
    "model.compile(optimizer=optimizer,\n",
    "             loss='binary_crossentropy',\n",
    "             metrics=['accuracy'])"
   ]
  },
  {
   "cell_type": "code",
   "execution_count": 27,
   "metadata": {},
   "outputs": [
    {
     "name": "stdout",
     "output_type": "stream",
     "text": [
      "Wall time: 1.6 s\n"
     ]
    },
    {
     "data": {
      "text/plain": [
       "<tensorflow.python.keras.callbacks.History at 0x1e6fb9de2c8>"
      ]
     },
     "execution_count": 27,
     "metadata": {},
     "output_type": "execute_result"
    }
   ],
   "source": [
    "%%time\n",
    "model.fit(training_ticker_[cols],\n",
    "         training_ticker['direction'],\n",
    "         epochs=50, verbose=False,\n",
    "         validation_split=0.2, shuffle=False)"
   ]
  },
  {
   "cell_type": "code",
   "execution_count": 28,
   "metadata": {},
   "outputs": [],
   "source": [
    "res = pd.DataFrame(model.history.history)"
   ]
  },
  {
   "cell_type": "code",
   "execution_count": 29,
   "metadata": {},
   "outputs": [
    {
     "data": {
      "text/plain": [
       "<matplotlib.axes._subplots.AxesSubplot at 0x1e6fb9b0448>"
      ]
     },
     "execution_count": 29,
     "metadata": {},
     "output_type": "execute_result"
    },
    {
     "data": {
      "image/png": "[encoded data removed]",
      "text/plain": [
       "<Figure size 720x432 with 1 Axes>"
      ]
     },
     "metadata": {},
     "output_type": "display_data"
    }
   ],
   "source": [
    "res[['accuracy', 'val_accuracy']].plot(figsize=(10, 6), style='--')"
   ]
  },
  {
   "cell_type": "code",
   "execution_count": 30,
   "metadata": {},
   "outputs": [
    {
     "name": "stdout",
     "output_type": "stream",
     "text": [
      "1/1 [==============================] - 0s 23ms/step - loss: 0.6341 - accuracy: 0.8462\n"
     ]
    },
    {
     "data": {
      "text/plain": [
       "[0.6340985894203186, 0.8461538553237915]"
      ]
     },
     "execution_count": 30,
     "metadata": {},
     "output_type": "execute_result"
    }
   ],
   "source": [
    "model.evaluate(training_ticker_[cols],\n",
    "              training_ticker['direction'])"
   ]
  },
  {
   "cell_type": "code",
   "execution_count": null,
   "metadata": {},
   "outputs": [],
   "source": []
  },
  {
   "cell_type": "code",
   "execution_count": 31,
   "metadata": {},
   "outputs": [
    {
     "data": {
      "text/plain": [
       "array([0, 0, 1, 1, 0, 0, 0, 0, 1, 1, 0, 0, 0])"
      ]
     },
     "execution_count": 31,
     "metadata": {},
     "output_type": "execute_result"
    }
   ],
   "source": [
    "pred = np.where(model.predict(training_ticker_[cols]) > 0.5, 1, 0)\n",
    "pred[:30].flatten()"
   ]
  },
  {
   "cell_type": "code",
   "execution_count": 32,
   "metadata": {},
   "outputs": [],
   "source": [
    "training_ticker['prediction'] = np.where(pred > 0, 1, -1)"
   ]
  },
  {
   "cell_type": "code",
   "execution_count": 33,
   "metadata": {},
   "outputs": [],
   "source": [
    "training_ticker['strategy'] = (training_ticker['prediction'] * training_ticker['return'])"
   ]
  },
  {
   "cell_type": "code",
   "execution_count": 34,
   "metadata": {},
   "outputs": [
    {
     "data": {
      "text/plain": [
       "return      0.947997\n",
       "strategy    1.166246\n",
       "dtype: float64"
      ]
     },
     "execution_count": 34,
     "metadata": {},
     "output_type": "execute_result"
    }
   ],
   "source": [
    "training_ticker[['return','strategy']].sum().apply(np.exp)"
   ]
  },
  {
   "cell_type": "code",
   "execution_count": 35,
   "metadata": {},
   "outputs": [
    {
     "name": "stderr",
     "output_type": "stream",
     "text": [
      "C:\\Users\\44nas\\anaconda3\\envs\\pyvizenv\\lib\\site-packages\\pandas\\core\\arrays\\datetimes.py:1172: UserWarning: Converting to PeriodArray/Index representation will drop timezone information.\n",
      "  \"will drop timezone information.\", UserWarning)\n"
     ]
    },
    {
     "data": {
      "text/plain": [
       "<matplotlib.axes._subplots.AxesSubplot at 0x1e6fd5ac4c8>"
      ]
     },
     "execution_count": 35,
     "metadata": {},
     "output_type": "execute_result"
    },
    {
     "data": {
      "image/png": "[encoded data removed]",
      "text/plain": [
       "<Figure size 720x432 with 1 Axes>"
      ]
     },
     "metadata": {},
     "output_type": "display_data"
    }
   ],
   "source": [
    "training_ticker[['return','strategy']].cumsum().apply(np.exp).plot(figsize=(10,6))"
   ]
  },
  {
   "cell_type": "code",
   "execution_count": 36,
   "metadata": {},
   "outputs": [
    {
     "name": "stdout",
     "output_type": "stream",
     "text": [
      "1/1 [==============================] - 0s 13ms/step - loss: 0.7317 - accuracy: 0.4194\n"
     ]
    },
    {
     "data": {
      "text/plain": [
       "[0.7317276000976562, 0.4193548262119293]"
      ]
     },
     "execution_count": 36,
     "metadata": {},
     "output_type": "execute_result"
    }
   ],
   "source": [
    "model.evaluate(test_ticker_[cols], test_ticker['direction'])"
   ]
  },
  {
   "cell_type": "code",
   "execution_count": 37,
   "metadata": {},
   "outputs": [],
   "source": [
    "pred = np.where(model.predict(test_ticker_[cols]) > 0.5, 1, 0)"
   ]
  },
  {
   "cell_type": "code",
   "execution_count": 38,
   "metadata": {},
   "outputs": [],
   "source": [
    "test_ticker['prediction'] = np.where(pred > 0, 1, -1)"
   ]
  },
  {
   "cell_type": "code",
   "execution_count": 39,
   "metadata": {},
   "outputs": [
    {
     "data": {
      "text/plain": [
       "-1    29\n",
       " 1     2\n",
       "Name: prediction, dtype: int64"
      ]
     },
     "execution_count": 39,
     "metadata": {},
     "output_type": "execute_result"
    }
   ],
   "source": [
    "test_ticker['prediction'].value_counts()"
   ]
  },
  {
   "cell_type": "code",
   "execution_count": 40,
   "metadata": {},
   "outputs": [],
   "source": [
    "test_ticker['strategy'] =  (test_ticker['prediction'] * test_ticker['return'])"
   ]
  },
  {
   "cell_type": "code",
   "execution_count": 41,
   "metadata": {},
   "outputs": [
    {
     "data": {
      "text/plain": [
       "return      1.122464\n",
       "strategy    0.902186\n",
       "dtype: float64"
      ]
     },
     "execution_count": 41,
     "metadata": {},
     "output_type": "execute_result"
    }
   ],
   "source": [
    "test_ticker[['return','strategy']].sum().apply(np.exp)"
   ]
  },
  {
   "cell_type": "code",
   "execution_count": 42,
   "metadata": {},
   "outputs": [
    {
     "data": {
      "text/plain": [
       "<matplotlib.axes._subplots.AxesSubplot at 0x1e6fe6d5648>"
      ]
     },
     "execution_count": 42,
     "metadata": {},
     "output_type": "execute_result"
    },
    {
     "data": {
      "image/png": "[encoded data removed]",
      "text/plain": [
       "<Figure size 720x432 with 1 Axes>"
      ]
     },
     "metadata": {},
     "output_type": "display_data"
    }
   ],
   "source": [
    "test_ticker[['return','strategy']].cumsum().apply(np.exp).plot(figsize=(10,6))"
   ]
  },
  {
   "cell_type": "code",
   "execution_count": null,
   "metadata": {},
   "outputs": [],
   "source": []
  }
 ],
 "metadata": {
  "kernelspec": {
   "display_name": "Python [conda env:pyvizenv] *",
   "language": "python",
   "name": "conda-env-pyvizenv-py"
  },
  "language_info": {
   "codemirror_mode": {
    "name": "ipython",
    "version": 3
   },
   "file_extension": ".py",
   "mimetype": "text/x-python",
   "name": "python",
   "nbconvert_exporter": "python",
   "pygments_lexer": "ipython3",
   "version": "3.7.9"
  }
 },
 "nbformat": 4,
 "nbformat_minor": 4
}
