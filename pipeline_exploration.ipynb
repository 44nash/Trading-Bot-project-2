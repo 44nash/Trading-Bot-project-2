{
 "cells": [
  {
   "cell_type": "markdown",
   "id": "33ed7f75-00d3-4eff-9142-bca0077d06c6",
   "metadata": {},
   "source": [
    "# Using `sklearn` Pipelines for Custom Data Transformations\n",
    "\n",
    "The purpose of this notebook is to demonstrate how to perform custom data transformations and analyses using `sklearn` Pipelines.  The relevant Python pseudo-code looks something like this:\n",
    "\n",
    "```python\n",
    "# Let's write a custom data transformer as an example!\n",
    "from sklearn.base import BaseEstimator, TransformerMixin\n",
    "\n",
    "# The code looks something like this:\n",
    "class MyMovingAverageAdder(BaseEstimator, TransformerMixin):\n",
    "    \"\"\"\n",
    "    Custom data transformer, intended to be used as part of a `sklearn` Pipeline.\n",
    "    \n",
    "    See file `./technical_analysis.py` contained in this directory for more details.\n",
    "    \"\"\"\n",
    "    ...\n",
    "\n",
    "```\n",
    "\n",
    "In the code snippet shown above, there are two important points: \n",
    "\n",
    "2. The custom class inherits from `sklearn.base.BaseEstimator` so that we may gain methods `get_params()` and `set_params()`, which are useful in hyperparameter optimization, for example.  \n",
    "1. The custom class inherits from `sklearn.base.TransformerMixin` so that we may gain methods `fit()`, `transform()`, and `fit_transform()`, which are useful in creating data-transformation pipelines, for example.\n",
    "\n",
    "More information can be found in [sklearn.base](https://scikit-learn.org/stable/modules/classes.html?highlight=sklearn%20base#module-sklearn.base).\n"
   ]
  },
  {
   "cell_type": "code",
   "execution_count": 1,
   "id": "c474acaf-ce01-44e1-b9da-8fdb3e197f45",
   "metadata": {},
   "outputs": [],
   "source": [
    "# Autoreload modules we're working on so that changes propagate to this notebook\n",
    "%load_ext autoreload\n",
    "%autoreload 1\n",
    "%aimport technical_analysis"
   ]
  },
  {
   "cell_type": "code",
   "execution_count": 2,
   "id": "cb105931-95a3-48d1-8a7d-03a4c9e6f0f8",
   "metadata": {},
   "outputs": [],
   "source": [
    "# Import the usual suspects....\n",
    "import numpy as np\n",
    "import pandas as pd\n",
    "import matplotlib.pyplot as plt\n",
    "from sklearn.pipeline import Pipeline"
   ]
  },
  {
   "cell_type": "code",
   "execution_count": 3,
   "id": "f7cfd14e-3598-4d83-b812-86d9aab5c0ef",
   "metadata": {},
   "outputs": [],
   "source": [
    "# Here is our custom code!\n",
    "from technical_analysis import MovingAverageAdder, BennyIndicators\n"
   ]
  },
  {
   "cell_type": "markdown",
   "id": "44359292-b72d-4baf-a482-321d4835ad03",
   "metadata": {},
   "source": [
    "## Generate Synthetic Test Data"
   ]
  },
  {
   "cell_type": "code",
   "execution_count": 68,
   "id": "a52d7e47-b6f2-4953-92ea-65ad20df3979",
   "metadata": {},
   "outputs": [
    {
     "data": {
      "text/html": [
       "<div>\n",
       "<style scoped>\n",
       "    .dataframe tbody tr th:only-of-type {\n",
       "        vertical-align: middle;\n",
       "    }\n",
       "\n",
       "    .dataframe tbody tr th {\n",
       "        vertical-align: top;\n",
       "    }\n",
       "\n",
       "    .dataframe thead th {\n",
       "        text-align: right;\n",
       "    }\n",
       "</style>\n",
       "<table border=\"1\" class=\"dataframe\">\n",
       "  <thead>\n",
       "    <tr style=\"text-align: right;\">\n",
       "      <th></th>\n",
       "      <th>close</th>\n",
       "    </tr>\n",
       "  </thead>\n",
       "  <tbody>\n",
       "    <tr>\n",
       "      <th>0</th>\n",
       "      <td>197.325078</td>\n",
       "    </tr>\n",
       "    <tr>\n",
       "      <th>1</th>\n",
       "      <td>200.757335</td>\n",
       "    </tr>\n",
       "    <tr>\n",
       "      <th>2</th>\n",
       "      <td>203.087884</td>\n",
       "    </tr>\n",
       "    <tr>\n",
       "      <th>3</th>\n",
       "      <td>201.581517</td>\n",
       "    </tr>\n",
       "    <tr>\n",
       "      <th>4</th>\n",
       "      <td>199.544729</td>\n",
       "    </tr>\n",
       "    <tr>\n",
       "      <th>...</th>\n",
       "      <td>...</td>\n",
       "    </tr>\n",
       "    <tr>\n",
       "      <th>247</th>\n",
       "      <td>204.474345</td>\n",
       "    </tr>\n",
       "    <tr>\n",
       "      <th>248</th>\n",
       "      <td>202.017175</td>\n",
       "    </tr>\n",
       "    <tr>\n",
       "      <th>249</th>\n",
       "      <td>202.767016</td>\n",
       "    </tr>\n",
       "    <tr>\n",
       "      <th>250</th>\n",
       "      <td>203.136660</td>\n",
       "    </tr>\n",
       "    <tr>\n",
       "      <th>251</th>\n",
       "      <td>205.033395</td>\n",
       "    </tr>\n",
       "  </tbody>\n",
       "</table>\n",
       "<p>252 rows × 1 columns</p>\n",
       "</div>"
      ],
      "text/plain": [
       "          close\n",
       "0    197.325078\n",
       "1    200.757335\n",
       "2    203.087884\n",
       "3    201.581517\n",
       "4    199.544729\n",
       "..          ...\n",
       "247  204.474345\n",
       "248  202.017175\n",
       "249  202.767016\n",
       "250  203.136660\n",
       "251  205.033395\n",
       "\n",
       "[252 rows x 1 columns]"
      ]
     },
     "execution_count": 68,
     "metadata": {},
     "output_type": "execute_result"
    }
   ],
   "source": [
    "# Define \"percent\" and other units & shorthands (for clarity below)\n",
    "percent = 0.01\n",
    "usd = 1.0  # $US\n",
    "\n",
    "# Generate some test data\n",
    "returns_mean = 0.0 * percent\n",
    "returns_std = 1.0 * percent\n",
    "num_business_days = 252\n",
    "initial_price = 200 * usd\n",
    "returns = returns_mean + (returns_std * np.random.randn(num_business_days))\n",
    "timeseries = initial_price * (1 + pd.DataFrame(data=returns, columns=['close'])).cumprod()\n",
    "X = timeseries.copy()  # shorthand\n",
    "\n",
    "# Display test data\n",
    "X"
   ]
  },
  {
   "cell_type": "markdown",
   "id": "eb348c83-4e7e-4383-8bd6-0bc1d36e9f98",
   "metadata": {},
   "source": [
    "## Build Custom Transformation Pipeline"
   ]
  },
  {
   "cell_type": "code",
   "execution_count": 69,
   "id": "703eca2e-df6b-4b53-ab68-871490f848f1",
   "metadata": {},
   "outputs": [],
   "source": [
    "# Build an `sklearn.pipeline.Pipeline`\n",
    "pipeline = Pipeline([\n",
    "   \n",
    "    ('sma20', MovingAverageAdder(ma_type='sma', window=20)),  # simple moving average (SMA)\n",
    "    ('ema20', MovingAverageAdder(ma_type='ema', window=20)),  # exponential moving average (EMA)\n",
    "    ('dema20', MovingAverageAdder(ma_type='dema', window=20)),  # double exponential moving average (DEMA)\n",
    "    ('tema20', MovingAverageAdder(ma_type='tema', window=20)),  # triple exponential moving average (TEMA) \n",
    "    ('benny_indicators', BennyIndicators(bb_window=20))\n",
    "])"
   ]
  },
  {
   "cell_type": "markdown",
   "id": "7f25761c-ff46-46d2-b9e4-6eb3577f2a47",
   "metadata": {},
   "source": [
    "## Transform Data"
   ]
  },
  {
   "cell_type": "code",
   "execution_count": 70,
   "id": "719a5029-8c66-4fe7-bd2d-8d0e4707de33",
   "metadata": {},
   "outputs": [],
   "source": [
    "# Transform the input data\n",
    "X_transformed = pipeline.fit_transform(X)"
   ]
  },
  {
   "cell_type": "code",
   "execution_count": 71,
   "id": "939349ab-1b4f-49ee-8c52-7dfc017d32db",
   "metadata": {},
   "outputs": [
    {
     "data": {
      "text/html": [
       "<div>\n",
       "<style scoped>\n",
       "    .dataframe tbody tr th:only-of-type {\n",
       "        vertical-align: middle;\n",
       "    }\n",
       "\n",
       "    .dataframe tbody tr th {\n",
       "        vertical-align: top;\n",
       "    }\n",
       "\n",
       "    .dataframe thead th {\n",
       "        text-align: right;\n",
       "    }\n",
       "</style>\n",
       "<table border=\"1\" class=\"dataframe\">\n",
       "  <thead>\n",
       "    <tr style=\"text-align: right;\">\n",
       "      <th></th>\n",
       "      <th>close</th>\n",
       "      <th>sma20</th>\n",
       "      <th>ema20</th>\n",
       "      <th>dema20</th>\n",
       "      <th>tema20</th>\n",
       "      <th>upper_bb</th>\n",
       "      <th>lower_bb</th>\n",
       "      <th>middle_bb</th>\n",
       "      <th>rsi</th>\n",
       "    </tr>\n",
       "  </thead>\n",
       "  <tbody>\n",
       "    <tr>\n",
       "      <th>247</th>\n",
       "      <td>204.474345</td>\n",
       "      <td>202.435846</td>\n",
       "      <td>203.060391</td>\n",
       "      <td>204.116699</td>\n",
       "      <td>203.826453</td>\n",
       "      <td>206.700256</td>\n",
       "      <td>198.171435</td>\n",
       "      <td>202.435846</td>\n",
       "      <td>55.262122</td>\n",
       "    </tr>\n",
       "    <tr>\n",
       "      <th>248</th>\n",
       "      <td>202.017175</td>\n",
       "      <td>202.385787</td>\n",
       "      <td>202.961037</td>\n",
       "      <td>203.826852</td>\n",
       "      <td>203.391899</td>\n",
       "      <td>206.644909</td>\n",
       "      <td>198.126666</td>\n",
       "      <td>202.385787</td>\n",
       "      <td>48.479990</td>\n",
       "    </tr>\n",
       "    <tr>\n",
       "      <th>249</th>\n",
       "      <td>202.767016</td>\n",
       "      <td>202.409942</td>\n",
       "      <td>202.942559</td>\n",
       "      <td>203.709197</td>\n",
       "      <td>203.225936</td>\n",
       "      <td>206.672109</td>\n",
       "      <td>198.147774</td>\n",
       "      <td>202.409942</td>\n",
       "      <td>50.477371</td>\n",
       "    </tr>\n",
       "    <tr>\n",
       "      <th>250</th>\n",
       "      <td>203.136660</td>\n",
       "      <td>202.513203</td>\n",
       "      <td>202.961045</td>\n",
       "      <td>203.671395</td>\n",
       "      <td>203.183232</td>\n",
       "      <td>206.738742</td>\n",
       "      <td>198.287665</td>\n",
       "      <td>202.513203</td>\n",
       "      <td>51.476083</td>\n",
       "    </tr>\n",
       "    <tr>\n",
       "      <th>251</th>\n",
       "      <td>205.033395</td>\n",
       "      <td>202.827623</td>\n",
       "      <td>203.158411</td>\n",
       "      <td>203.979679</td>\n",
       "      <td>203.638362</td>\n",
       "      <td>206.800872</td>\n",
       "      <td>198.854375</td>\n",
       "      <td>202.827623</td>\n",
       "      <td>56.341427</td>\n",
       "    </tr>\n",
       "  </tbody>\n",
       "</table>\n",
       "</div>"
      ],
      "text/plain": [
       "          close       sma20       ema20      dema20      tema20    upper_bb  \\\n",
       "247  204.474345  202.435846  203.060391  204.116699  203.826453  206.700256   \n",
       "248  202.017175  202.385787  202.961037  203.826852  203.391899  206.644909   \n",
       "249  202.767016  202.409942  202.942559  203.709197  203.225936  206.672109   \n",
       "250  203.136660  202.513203  202.961045  203.671395  203.183232  206.738742   \n",
       "251  205.033395  202.827623  203.158411  203.979679  203.638362  206.800872   \n",
       "\n",
       "       lower_bb   middle_bb        rsi  \n",
       "247  198.171435  202.435846  55.262122  \n",
       "248  198.126666  202.385787  48.479990  \n",
       "249  198.147774  202.409942  50.477371  \n",
       "250  198.287665  202.513203  51.476083  \n",
       "251  198.854375  202.827623  56.341427  "
      ]
     },
     "execution_count": 71,
     "metadata": {},
     "output_type": "execute_result"
    }
   ],
   "source": [
    "X_transformed.tail()"
   ]
  },
  {
   "cell_type": "markdown",
   "id": "09a4ce30-e1d0-486f-b589-1cad5b31b7f4",
   "metadata": {},
   "source": [
    "## Plot Results"
   ]
  },
  {
   "cell_type": "code",
   "execution_count": 26,
   "id": "0cccb736-cbbb-459a-8aa5-2f5bb688d4fe",
   "metadata": {},
   "outputs": [
    {
     "data": {
      "image/png": "[encoded data removed]",
      "text/plain": [
       "<Figure size 432x288 with 1 Axes>"
      ]
     },
     "metadata": {
      "needs_background": "light"
     },
     "output_type": "display_data"
    }
   ],
   "source": [
    "# Plot the results\n",
    "#ax = X_transformed.plot(linewidth=1.5)\n",
    "ax = X_transformed.rename(columns={'close': 'close (input)'}).plot()\n",
    "ax.set_title('Stock Price vs. Time (Synthetic Data)')\n",
    "ax.set_xlabel('Number of Business Days')\n",
    "ax.set_ylabel('Stock Price ($US)')\n",
    "ax.legend(title='Pipeline Results', ncol=1)\n",
    "plt.show()"
   ]
  },
  {
   "cell_type": "code",
   "execution_count": null,
   "id": "b0a83d9c-9688-424c-9ba5-f825555b668a",
   "metadata": {},
   "outputs": [],
   "source": []
  }
 ],
 "metadata": {
  "kernelspec": {
   "display_name": "Python 3",
   "language": "python",
   "name": "python3"
  },
  "language_info": {
   "codemirror_mode": {
    "name": "ipython",
    "version": 3
   },
   "file_extension": ".py",
   "mimetype": "text/x-python",
   "name": "python",
   "nbconvert_exporter": "python",
   "pygments_lexer": "ipython3",
   "version": "3.7.10"
  }
 },
 "nbformat": 4,
 "nbformat_minor": 5
}
