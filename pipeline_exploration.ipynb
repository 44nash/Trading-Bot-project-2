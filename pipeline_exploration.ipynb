{
 "cells": [
  {
   "cell_type": "markdown",
   "id": "6f025ee8",
   "metadata": {},
   "source": [
    "# Using `sklearn` Pipelines for Custom Data Transformations\n",
    "\n",
    "The purpose of this notebook is to demonstrate how to perform custom data transformations and analyses using `sklearn` Pipelines.  The relevant Python pseudo-code looks something like this:\n",
    "\n",
    "```python\n",
    "# Let's write a custom data transformer as an example!\n",
    "from sklearn.base import BaseEstimator, TransformerMixin\n",
    "\n",
    "# The code looks something like this:\n",
    "class MyMovingAverageAdder(BaseEstimator, TransformerMixin):\n",
    "    \"\"\"\n",
    "    Custom data transformer, intended to be used as part of a `sklearn` Pipeline.\n",
    "    \n",
    "    See file `./technical_analysis.py` contained in this directory for more details.\n",
    "    \"\"\"\n",
    "    ...\n",
    "\n",
    "```\n",
    "\n",
    "In the code snippet shown above, there are two important points: \n",
    "\n",
    "2. The custom class inherits from `sklearn.base.BaseEstimator` so that we may gain methods `get_params()` and `set_params()`, which are useful in hyperparameter optimization, for example.  \n",
    "1. The custom class inherits from `sklearn.base.TransformerMixin` so that we may gain methods `fit()`, `transform()`, and `fit_transform()`, which are useful in creating data-transformation pipelines, for example.\n",
    "\n",
    "More information can be found in [sklearn.base](https://scikit-learn.org/stable/modules/classes.html?highlight=sklearn%20base#module-sklearn.base).\n"
   ]
  },
  {
   "cell_type": "code",
   "execution_count": 1,
   "id": "6971f555",
   "metadata": {},
   "outputs": [],
   "source": [
    "# Autoreload modules we're working on so that changes propagate to this notebook\n",
    "%load_ext autoreload\n",
    "%autoreload 1\n",
    "%aimport technical_analysis"
   ]
  },
  {
   "cell_type": "code",
   "execution_count": 2,
   "id": "772eff8f",
   "metadata": {},
   "outputs": [],
   "source": [
    "# Import the usual suspects....\n",
    "import numpy as np\n",
    "import pandas as pd\n",
    "import matplotlib.pyplot as plt\n",
    "from sklearn.pipeline import Pipeline\n",
    "\n",
    "\n",
    "import pandas_datareader as pdr\n",
    "import datetime as dt\n",
    "import quandl\n",
    "\n",
    "\n",
    "import pandas as pd\n",
    "import numpy as np\n",
    "import requests\n",
    "from termcolor import colored as cl\n",
    "from math import floor\n",
    "import matplotlib.pyplot as plt\n",
    "plt.rcParams['figure.figsize'] = (20, 10)\n",
    "plt.style.use('fivethirtyeight')"
   ]
  },
  {
   "cell_type": "code",
   "execution_count": 3,
   "id": "c7ce384f",
   "metadata": {},
   "outputs": [],
   "source": [
    "# Here is our custom code!\n",
    "from technical_analysis import *\n",
    "from technical_analysis_m import *"
   ]
  },
  {
   "cell_type": "markdown",
   "id": "e65dd8ec",
   "metadata": {},
   "source": [
    "## Generate Synthetic Test Data"
   ]
  },
  {
   "cell_type": "code",
   "execution_count": 4,
   "id": "521e177a",
   "metadata": {},
   "outputs": [
    {
     "data": {
      "text/html": [
       "<div>\n",
       "<style scoped>\n",
       "    .dataframe tbody tr th:only-of-type {\n",
       "        vertical-align: middle;\n",
       "    }\n",
       "\n",
       "    .dataframe tbody tr th {\n",
       "        vertical-align: top;\n",
       "    }\n",
       "\n",
       "    .dataframe thead th {\n",
       "        text-align: right;\n",
       "    }\n",
       "</style>\n",
       "<table border=\"1\" class=\"dataframe\">\n",
       "  <thead>\n",
       "    <tr style=\"text-align: right;\">\n",
       "      <th></th>\n",
       "      <th>close</th>\n",
       "    </tr>\n",
       "  </thead>\n",
       "  <tbody>\n",
       "    <tr>\n",
       "      <th>0</th>\n",
       "      <td>197.969613</td>\n",
       "    </tr>\n",
       "    <tr>\n",
       "      <th>1</th>\n",
       "      <td>196.976651</td>\n",
       "    </tr>\n",
       "    <tr>\n",
       "      <th>2</th>\n",
       "      <td>199.819100</td>\n",
       "    </tr>\n",
       "    <tr>\n",
       "      <th>3</th>\n",
       "      <td>201.078700</td>\n",
       "    </tr>\n",
       "    <tr>\n",
       "      <th>4</th>\n",
       "      <td>203.770457</td>\n",
       "    </tr>\n",
       "  </tbody>\n",
       "</table>\n",
       "</div>"
      ],
      "text/plain": [
       "        close\n",
       "0  197.969613\n",
       "1  196.976651\n",
       "2  199.819100\n",
       "3  201.078700\n",
       "4  203.770457"
      ]
     },
     "execution_count": 4,
     "metadata": {},
     "output_type": "execute_result"
    }
   ],
   "source": [
    "# Define \"percent\" and other units & shorthands (for clarity below)\n",
    "percent = 0.01\n",
    "usd = 1.0  # $US\n",
    "\n",
    "# Generate some test data\n",
    "returns_mean = 0.0 * percent\n",
    "returns_std = 1.0 * percent\n",
    "num_business_days = 252\n",
    "initial_price = 200 * usd\n",
    "returns = returns_mean + (returns_std * np.random.randn(num_business_days))\n",
    "timeseries = initial_price * (1 + pd.DataFrame(data=returns, columns=['close'])).cumprod()\n",
    "X = timeseries.copy()  # shorthand\n",
    "\n",
    "# Display test data\n",
    "X.head()"
   ]
  },
  {
   "cell_type": "code",
   "execution_count": 5,
   "id": "58ba6992",
   "metadata": {},
   "outputs": [],
   "source": [
    "# ticker0 = quandl.get(\"EOD/AAPL\", authtoken=\"YA4KnPAgb7_ouvkkyxKs\")\n",
    "# # print(ticker0.size )\n",
    "# ticker1 = ticker0.copy()\n",
    "# ticker1.columns= ticker0.columns.str.strip().str.lower()\n",
    "# ticker = ticker1.iloc[-30:]\n",
    "# print(ticker.size)\n",
    "# ticker.tail()"
   ]
  },
  {
   "cell_type": "code",
   "execution_count": 6,
   "id": "1cafaa84",
   "metadata": {},
   "outputs": [],
   "source": [
    "import alpaca_trade_api as tradeapi\n",
    "from dotenv import load_dotenv\n",
    "import os\n",
    "import pandas as pd\n",
    "\n",
    "# https://algotrading101.com/learn/alpaca-trading-api-guide/\n",
    "load_dotenv(\"C:\\\\Users\\\\thebe\\\\Fintech\\\\API_KEYS.env\")\n",
    "\n",
    "# authentication and connection details\n",
    "# print(os.getenv(\"ALPACA_API_KEY\"))\n",
    "api_key = os.getenv(\"ALPACA_API_KEY\")\n",
    "api_secret = os.getenv(\"ALPACA_SECRET_KEY\")\n",
    "base_url = 'https://paper-api.alpaca.markets'\n",
    "\n",
    "# instantiate REST API\n",
    "api = tradeapi.REST(api_key, api_secret, base_url, api_version='v2')\n",
    "\n",
    "# obtain account information\n",
    "account = api.get_account()\n",
    "# print(account)"
   ]
  },
  {
   "cell_type": "code",
   "execution_count": 7,
   "id": "20e85442",
   "metadata": {},
   "outputs": [
    {
     "data": {
      "text/html": [
       "<div>\n",
       "<style scoped>\n",
       "    .dataframe tbody tr th:only-of-type {\n",
       "        vertical-align: middle;\n",
       "    }\n",
       "\n",
       "    .dataframe tbody tr th {\n",
       "        vertical-align: top;\n",
       "    }\n",
       "\n",
       "    .dataframe thead th {\n",
       "        text-align: right;\n",
       "    }\n",
       "</style>\n",
       "<table border=\"1\" class=\"dataframe\">\n",
       "  <thead>\n",
       "    <tr style=\"text-align: right;\">\n",
       "      <th></th>\n",
       "      <th>open</th>\n",
       "      <th>high</th>\n",
       "      <th>low</th>\n",
       "      <th>close</th>\n",
       "      <th>volume</th>\n",
       "    </tr>\n",
       "    <tr>\n",
       "      <th>time</th>\n",
       "      <th></th>\n",
       "      <th></th>\n",
       "      <th></th>\n",
       "      <th></th>\n",
       "      <th></th>\n",
       "    </tr>\n",
       "  </thead>\n",
       "  <tbody>\n",
       "    <tr>\n",
       "      <th>2021-02-10 00:00:00-05:00</th>\n",
       "      <td>136.48</td>\n",
       "      <td>136.99</td>\n",
       "      <td>134.4000</td>\n",
       "      <td>135.36</td>\n",
       "      <td>66856066</td>\n",
       "    </tr>\n",
       "    <tr>\n",
       "      <th>2021-02-11 00:00:00-05:00</th>\n",
       "      <td>135.90</td>\n",
       "      <td>136.39</td>\n",
       "      <td>133.7700</td>\n",
       "      <td>135.12</td>\n",
       "      <td>59377028</td>\n",
       "    </tr>\n",
       "    <tr>\n",
       "      <th>2021-02-12 00:00:00-05:00</th>\n",
       "      <td>134.35</td>\n",
       "      <td>135.53</td>\n",
       "      <td>133.6921</td>\n",
       "      <td>135.38</td>\n",
       "      <td>54861442</td>\n",
       "    </tr>\n",
       "    <tr>\n",
       "      <th>2021-02-16 00:00:00-05:00</th>\n",
       "      <td>135.49</td>\n",
       "      <td>136.01</td>\n",
       "      <td>132.7900</td>\n",
       "      <td>133.16</td>\n",
       "      <td>72596290</td>\n",
       "    </tr>\n",
       "    <tr>\n",
       "      <th>2021-02-17 00:00:00-05:00</th>\n",
       "      <td>131.25</td>\n",
       "      <td>132.22</td>\n",
       "      <td>129.4700</td>\n",
       "      <td>130.84</td>\n",
       "      <td>92298227</td>\n",
       "    </tr>\n",
       "  </tbody>\n",
       "</table>\n",
       "</div>"
      ],
      "text/plain": [
       "                             open    high       low   close    volume\n",
       "time                                                                 \n",
       "2021-02-10 00:00:00-05:00  136.48  136.99  134.4000  135.36  66856066\n",
       "2021-02-11 00:00:00-05:00  135.90  136.39  133.7700  135.12  59377028\n",
       "2021-02-12 00:00:00-05:00  134.35  135.53  133.6921  135.38  54861442\n",
       "2021-02-16 00:00:00-05:00  135.49  136.01  132.7900  133.16  72596290\n",
       "2021-02-17 00:00:00-05:00  131.25  132.22  129.4700  130.84  92298227"
      ]
     },
     "execution_count": 7,
     "metadata": {},
     "output_type": "execute_result"
    }
   ],
   "source": [
    "\n",
    "today = pd.Timestamp(\"2020-07-14\", tz=\"America/New_York\").isoformat()\n",
    "\n",
    "# tickers = [\"FB\", \"TWTR\", 'AAPL']\n",
    "tickers = ['AAPL']\n",
    "# tickers =[\"FB\"]\n",
    "\n",
    "timeframe = \"1D\"\n",
    "\n",
    "\n",
    "\n",
    "start = pd.Timestamp(\"2017-07-2\", tz=\"America/New_York\").isoformat()\n",
    "end = pd.Timestamp(\"2021-07-2\", tz=\"America/New_York\").isoformat()\n",
    "\n",
    "# Get current closing prices for FB and TWTR\n",
    "ticker0 = api.get_barset(\n",
    "    tickers,\n",
    "    timeframe,\n",
    "    start = start,\n",
    "    end = end,\n",
    ").df\n",
    "\n",
    "ticker = ticker0.copy()\n",
    "ticker.columns= ticker0[\"AAPL\"].columns.str.strip().str.lower()\n",
    "\n",
    "\n",
    "# Display sample data\n",
    "ticker.head(5)"
   ]
  },
  {
   "cell_type": "markdown",
   "id": "9f452a5a",
   "metadata": {},
   "source": [
    "## Build Custom Transformation Pipeline"
   ]
  },
  {
   "cell_type": "code",
   "execution_count": 11,
   "id": "d22ac075",
   "metadata": {},
   "outputs": [
    {
     "name": "stderr",
     "output_type": "stream",
     "text": [
      "[autoreload of technical_analysis failed: Traceback (most recent call last):\n",
      "  File \"C:\\Users\\thebe\\anaconda\\envs\\algotrading\\lib\\site-packages\\IPython\\extensions\\autoreload.py\", line 245, in check\n",
      "    superreload(m, reload, self.old_objects)\n",
      "  File \"C:\\Users\\thebe\\anaconda\\envs\\algotrading\\lib\\site-packages\\IPython\\extensions\\autoreload.py\", line 394, in superreload\n",
      "    module = reload(module)\n",
      "  File \"C:\\Users\\thebe\\anaconda\\envs\\algotrading\\lib\\imp.py\", line 314, in reload\n",
      "    return importlib.reload(module)\n",
      "  File \"C:\\Users\\thebe\\anaconda\\envs\\algotrading\\lib\\importlib\\__init__.py\", line 169, in reload\n",
      "    _bootstrap._exec(spec, module)\n",
      "  File \"<frozen importlib._bootstrap>\", line 630, in _exec\n",
      "  File \"<frozen importlib._bootstrap_external>\", line 724, in exec_module\n",
      "  File \"<frozen importlib._bootstrap_external>\", line 860, in get_code\n",
      "  File \"<frozen importlib._bootstrap_external>\", line 791, in source_to_code\n",
      "  File \"<frozen importlib._bootstrap>\", line 219, in _call_with_frames_removed\n",
      "  File \"C:\\Users\\thebe\\Fintech\\Trading-Bot-project-2\\technical_analysis.py\", line 106\n",
      "    self,\n",
      "    ^\n",
      "SyntaxError: non-default argument follows default argument\n",
      "]\n"
     ]
    }
   ],
   "source": [
    "# Build an `sklearn.pipeline.Pipeline`\n",
    "pipeline = Pipeline([\n",
    "    ('sma20', MovingAverageAdder(ma_type='sma', window=20)),  # simple moving average (SMA)\n",
    "    ('ema20', MovingAverageAdder(ma_type='ema', window=20)),  # exponential moving average (EMA)\n",
    "    ('dema20', MovingAverageAdder(ma_type='dema', window=20)),  # double exponential moving average (DEMA)\n",
    "    ('tema20', MovingAverageAdder(ma_type='tema', window=20)),  # triple exponential moving average (TEMA)\n",
    "    ('stochastic oscillator', MarcusIndicators(ma_type='stochastic oscillator', window=20)),\n",
    "    ('ichimoku cloud', MarcusIndicators(ma_type='ichimoku cloud', window=20)),\n",
    "    ('fibonacci retracement', MarcusIndicators(ma_type='fibonacci retracement', window=20)),\n",
    "    ('bollinger_band', BennyIndicators(indicator='bollinger_bands', bb_window=20)),\n",
    "    ('rsi', BennyIndicators(indicator='rsi', lookback=14)),\n",
    "    ('macd', BennyIndicators(indicator='macd', slow=26, fast=12, smooth=9))\n",
    "])"
   ]
  },
  {
   "cell_type": "markdown",
   "id": "db150fc7",
   "metadata": {},
   "source": [
    "## Transform Data"
   ]
  },
  {
   "cell_type": "code",
   "execution_count": 12,
   "id": "7d59b779",
   "metadata": {},
   "outputs": [],
   "source": [
    "# Transform the input data\n",
    "# X_transformed = pipeline.fit_transform(X)"
   ]
  },
  {
   "cell_type": "code",
   "execution_count": 13,
   "id": "8fff77f8",
   "metadata": {},
   "outputs": [
    {
     "name": "stdout",
     "output_type": "stream",
     "text": [
      "Level Percentage\t Price ($)\n",
      "00.0%\t\t 139.96\n",
      "23.6%\t\t 134.39984\n",
      "38.2%\t\t 130.96008\n",
      "50.0%\t\t 128.18\n",
      "61.8%\t\t 125.39992000000001\n",
      "100.0%\t\t 116.4\n"
     ]
    },
    {
     "ename": "ValueError",
     "evalue": "Wrong number of items passed 3, placement implies 1",
     "output_type": "error",
     "traceback": [
      "\u001b[1;31m---------------------------------------------------------------------------\u001b[0m",
      "\u001b[1;31mKeyError\u001b[0m                                  Traceback (most recent call last)",
      "\u001b[1;32m~\\anaconda\\envs\\algotrading\\lib\\site-packages\\pandas\\core\\indexes\\base.py\u001b[0m in \u001b[0;36mget_loc\u001b[1;34m(self, key, method, tolerance)\u001b[0m\n\u001b[0;32m   3079\u001b[0m             \u001b[1;32mtry\u001b[0m\u001b[1;33m:\u001b[0m\u001b[1;33m\u001b[0m\u001b[1;33m\u001b[0m\u001b[0m\n\u001b[1;32m-> 3080\u001b[1;33m                 \u001b[1;32mreturn\u001b[0m \u001b[0mself\u001b[0m\u001b[1;33m.\u001b[0m\u001b[0m_engine\u001b[0m\u001b[1;33m.\u001b[0m\u001b[0mget_loc\u001b[0m\u001b[1;33m(\u001b[0m\u001b[0mcasted_key\u001b[0m\u001b[1;33m)\u001b[0m\u001b[1;33m\u001b[0m\u001b[1;33m\u001b[0m\u001b[0m\n\u001b[0m\u001b[0;32m   3081\u001b[0m             \u001b[1;32mexcept\u001b[0m \u001b[0mKeyError\u001b[0m \u001b[1;32mas\u001b[0m \u001b[0merr\u001b[0m\u001b[1;33m:\u001b[0m\u001b[1;33m\u001b[0m\u001b[1;33m\u001b[0m\u001b[0m\n",
      "\u001b[1;32mpandas\\_libs\\index.pyx\u001b[0m in \u001b[0;36mpandas._libs.index.IndexEngine.get_loc\u001b[1;34m()\u001b[0m\n",
      "\u001b[1;32mpandas\\_libs\\index.pyx\u001b[0m in \u001b[0;36mpandas._libs.index.IndexEngine.get_loc\u001b[1;34m()\u001b[0m\n",
      "\u001b[1;32mpandas\\_libs\\hashtable_class_helper.pxi\u001b[0m in \u001b[0;36mpandas._libs.hashtable.PyObjectHashTable.get_item\u001b[1;34m()\u001b[0m\n",
      "\u001b[1;32mpandas\\_libs\\hashtable_class_helper.pxi\u001b[0m in \u001b[0;36mpandas._libs.hashtable.PyObjectHashTable.get_item\u001b[1;34m()\u001b[0m\n",
      "\u001b[1;31mKeyError\u001b[0m: 'macd'",
      "\nThe above exception was the direct cause of the following exception:\n",
      "\u001b[1;31mKeyError\u001b[0m                                  Traceback (most recent call last)",
      "\u001b[1;32m~\\anaconda\\envs\\algotrading\\lib\\site-packages\\pandas\\core\\generic.py\u001b[0m in \u001b[0;36m_set_item\u001b[1;34m(self, key, value)\u001b[0m\n\u001b[0;32m   3825\u001b[0m         \u001b[1;32mtry\u001b[0m\u001b[1;33m:\u001b[0m\u001b[1;33m\u001b[0m\u001b[1;33m\u001b[0m\u001b[0m\n\u001b[1;32m-> 3826\u001b[1;33m             \u001b[0mloc\u001b[0m \u001b[1;33m=\u001b[0m \u001b[0mself\u001b[0m\u001b[1;33m.\u001b[0m\u001b[0m_info_axis\u001b[0m\u001b[1;33m.\u001b[0m\u001b[0mget_loc\u001b[0m\u001b[1;33m(\u001b[0m\u001b[0mkey\u001b[0m\u001b[1;33m)\u001b[0m\u001b[1;33m\u001b[0m\u001b[1;33m\u001b[0m\u001b[0m\n\u001b[0m\u001b[0;32m   3827\u001b[0m         \u001b[1;32mexcept\u001b[0m \u001b[0mKeyError\u001b[0m\u001b[1;33m:\u001b[0m\u001b[1;33m\u001b[0m\u001b[1;33m\u001b[0m\u001b[0m\n",
      "\u001b[1;32m~\\anaconda\\envs\\algotrading\\lib\\site-packages\\pandas\\core\\indexes\\base.py\u001b[0m in \u001b[0;36mget_loc\u001b[1;34m(self, key, method, tolerance)\u001b[0m\n\u001b[0;32m   3081\u001b[0m             \u001b[1;32mexcept\u001b[0m \u001b[0mKeyError\u001b[0m \u001b[1;32mas\u001b[0m \u001b[0merr\u001b[0m\u001b[1;33m:\u001b[0m\u001b[1;33m\u001b[0m\u001b[1;33m\u001b[0m\u001b[0m\n\u001b[1;32m-> 3082\u001b[1;33m                 \u001b[1;32mraise\u001b[0m \u001b[0mKeyError\u001b[0m\u001b[1;33m(\u001b[0m\u001b[0mkey\u001b[0m\u001b[1;33m)\u001b[0m \u001b[1;32mfrom\u001b[0m \u001b[0merr\u001b[0m\u001b[1;33m\u001b[0m\u001b[1;33m\u001b[0m\u001b[0m\n\u001b[0m\u001b[0;32m   3083\u001b[0m \u001b[1;33m\u001b[0m\u001b[0m\n",
      "\u001b[1;31mKeyError\u001b[0m: 'macd'",
      "\nDuring handling of the above exception, another exception occurred:\n",
      "\u001b[1;31mValueError\u001b[0m                                Traceback (most recent call last)",
      "\u001b[1;32m<ipython-input-13-37d05f916503>\u001b[0m in \u001b[0;36m<module>\u001b[1;34m\u001b[0m\n\u001b[1;32m----> 1\u001b[1;33m \u001b[0mticker_transformed\u001b[0m \u001b[1;33m=\u001b[0m \u001b[0mpipeline\u001b[0m\u001b[1;33m.\u001b[0m\u001b[0mfit_transform\u001b[0m\u001b[1;33m(\u001b[0m\u001b[0mticker\u001b[0m\u001b[1;33m)\u001b[0m\u001b[1;33m\u001b[0m\u001b[1;33m\u001b[0m\u001b[0m\n\u001b[0m",
      "\u001b[1;32m~\\anaconda\\envs\\algotrading\\lib\\site-packages\\sklearn\\pipeline.py\u001b[0m in \u001b[0;36mfit_transform\u001b[1;34m(self, X, y, **fit_params)\u001b[0m\n\u001b[0;32m    385\u001b[0m             \u001b[0mfit_params_last_step\u001b[0m \u001b[1;33m=\u001b[0m \u001b[0mfit_params_steps\u001b[0m\u001b[1;33m[\u001b[0m\u001b[0mself\u001b[0m\u001b[1;33m.\u001b[0m\u001b[0msteps\u001b[0m\u001b[1;33m[\u001b[0m\u001b[1;33m-\u001b[0m\u001b[1;36m1\u001b[0m\u001b[1;33m]\u001b[0m\u001b[1;33m[\u001b[0m\u001b[1;36m0\u001b[0m\u001b[1;33m]\u001b[0m\u001b[1;33m]\u001b[0m\u001b[1;33m\u001b[0m\u001b[1;33m\u001b[0m\u001b[0m\n\u001b[0;32m    386\u001b[0m             \u001b[1;32mif\u001b[0m \u001b[0mhasattr\u001b[0m\u001b[1;33m(\u001b[0m\u001b[0mlast_step\u001b[0m\u001b[1;33m,\u001b[0m \u001b[1;34m'fit_transform'\u001b[0m\u001b[1;33m)\u001b[0m\u001b[1;33m:\u001b[0m\u001b[1;33m\u001b[0m\u001b[1;33m\u001b[0m\u001b[0m\n\u001b[1;32m--> 387\u001b[1;33m                 \u001b[1;32mreturn\u001b[0m \u001b[0mlast_step\u001b[0m\u001b[1;33m.\u001b[0m\u001b[0mfit_transform\u001b[0m\u001b[1;33m(\u001b[0m\u001b[0mXt\u001b[0m\u001b[1;33m,\u001b[0m \u001b[0my\u001b[0m\u001b[1;33m,\u001b[0m \u001b[1;33m**\u001b[0m\u001b[0mfit_params_last_step\u001b[0m\u001b[1;33m)\u001b[0m\u001b[1;33m\u001b[0m\u001b[1;33m\u001b[0m\u001b[0m\n\u001b[0m\u001b[0;32m    388\u001b[0m             \u001b[1;32melse\u001b[0m\u001b[1;33m:\u001b[0m\u001b[1;33m\u001b[0m\u001b[1;33m\u001b[0m\u001b[0m\n\u001b[0;32m    389\u001b[0m                 return last_step.fit(Xt, y,\n",
      "\u001b[1;32m~\\anaconda\\envs\\algotrading\\lib\\site-packages\\sklearn\\base.py\u001b[0m in \u001b[0;36mfit_transform\u001b[1;34m(self, X, y, **fit_params)\u001b[0m\n\u001b[0;32m    697\u001b[0m         \u001b[1;32mif\u001b[0m \u001b[0my\u001b[0m \u001b[1;32mis\u001b[0m \u001b[1;32mNone\u001b[0m\u001b[1;33m:\u001b[0m\u001b[1;33m\u001b[0m\u001b[1;33m\u001b[0m\u001b[0m\n\u001b[0;32m    698\u001b[0m             \u001b[1;31m# fit method of arity 1 (unsupervised transformation)\u001b[0m\u001b[1;33m\u001b[0m\u001b[1;33m\u001b[0m\u001b[1;33m\u001b[0m\u001b[0m\n\u001b[1;32m--> 699\u001b[1;33m             \u001b[1;32mreturn\u001b[0m \u001b[0mself\u001b[0m\u001b[1;33m.\u001b[0m\u001b[0mfit\u001b[0m\u001b[1;33m(\u001b[0m\u001b[0mX\u001b[0m\u001b[1;33m,\u001b[0m \u001b[1;33m**\u001b[0m\u001b[0mfit_params\u001b[0m\u001b[1;33m)\u001b[0m\u001b[1;33m.\u001b[0m\u001b[0mtransform\u001b[0m\u001b[1;33m(\u001b[0m\u001b[0mX\u001b[0m\u001b[1;33m)\u001b[0m\u001b[1;33m\u001b[0m\u001b[1;33m\u001b[0m\u001b[0m\n\u001b[0m\u001b[0;32m    700\u001b[0m         \u001b[1;32melse\u001b[0m\u001b[1;33m:\u001b[0m\u001b[1;33m\u001b[0m\u001b[1;33m\u001b[0m\u001b[0m\n\u001b[0;32m    701\u001b[0m             \u001b[1;31m# fit method of arity 2 (supervised transformation)\u001b[0m\u001b[1;33m\u001b[0m\u001b[1;33m\u001b[0m\u001b[1;33m\u001b[0m\u001b[0m\n",
      "\u001b[1;32m~\\Fintech\\Trading-Bot-project-2\\technical_analysis.py\u001b[0m in \u001b[0;36mtransform\u001b[1;34m(self, X, y, **fit_params)\u001b[0m\n\u001b[0;32m    150\u001b[0m         \u001b[1;31m# calculate macd\u001b[0m\u001b[1;33m\u001b[0m\u001b[1;33m\u001b[0m\u001b[1;33m\u001b[0m\u001b[0m\n\u001b[0;32m    151\u001b[0m         \u001b[1;32melif\u001b[0m \u001b[0mself\u001b[0m\u001b[1;33m.\u001b[0m\u001b[0mindicator\u001b[0m \u001b[1;33m==\u001b[0m \u001b[1;34m'macd'\u001b[0m\u001b[1;33m:\u001b[0m\u001b[1;33m\u001b[0m\u001b[1;33m\u001b[0m\u001b[0m\n\u001b[1;32m--> 152\u001b[1;33m             \u001b[0mX\u001b[0m\u001b[1;33m[\u001b[0m\u001b[1;34m'macd'\u001b[0m\u001b[1;33m]\u001b[0m \u001b[1;33m=\u001b[0m \u001b[0mget_macd\u001b[0m\u001b[1;33m(\u001b[0m\u001b[0mclose_vals\u001b[0m\u001b[1;33m,\u001b[0m \u001b[0mself\u001b[0m\u001b[1;33m.\u001b[0m\u001b[0mslow\u001b[0m\u001b[1;33m,\u001b[0m \u001b[0mself\u001b[0m\u001b[1;33m.\u001b[0m\u001b[0mfast\u001b[0m\u001b[1;33m,\u001b[0m \u001b[0mself\u001b[0m\u001b[1;33m.\u001b[0m\u001b[0msmooth\u001b[0m\u001b[1;33m)\u001b[0m\u001b[1;33m\u001b[0m\u001b[1;33m\u001b[0m\u001b[0m\n\u001b[0m\u001b[0;32m    153\u001b[0m         \u001b[1;32mreturn\u001b[0m \u001b[0mX\u001b[0m\u001b[1;33m\u001b[0m\u001b[1;33m\u001b[0m\u001b[0m\n\u001b[0;32m    154\u001b[0m \u001b[1;33m\u001b[0m\u001b[0m\n",
      "\u001b[1;32m~\\anaconda\\envs\\algotrading\\lib\\site-packages\\pandas\\core\\frame.py\u001b[0m in \u001b[0;36m__setitem__\u001b[1;34m(self, key, value)\u001b[0m\n\u001b[0;32m   3161\u001b[0m         \u001b[1;32melse\u001b[0m\u001b[1;33m:\u001b[0m\u001b[1;33m\u001b[0m\u001b[1;33m\u001b[0m\u001b[0m\n\u001b[0;32m   3162\u001b[0m             \u001b[1;31m# set column\u001b[0m\u001b[1;33m\u001b[0m\u001b[1;33m\u001b[0m\u001b[1;33m\u001b[0m\u001b[0m\n\u001b[1;32m-> 3163\u001b[1;33m             \u001b[0mself\u001b[0m\u001b[1;33m.\u001b[0m\u001b[0m_set_item\u001b[0m\u001b[1;33m(\u001b[0m\u001b[0mkey\u001b[0m\u001b[1;33m,\u001b[0m \u001b[0mvalue\u001b[0m\u001b[1;33m)\u001b[0m\u001b[1;33m\u001b[0m\u001b[1;33m\u001b[0m\u001b[0m\n\u001b[0m\u001b[0;32m   3164\u001b[0m \u001b[1;33m\u001b[0m\u001b[0m\n\u001b[0;32m   3165\u001b[0m     \u001b[1;32mdef\u001b[0m \u001b[0m_setitem_slice\u001b[0m\u001b[1;33m(\u001b[0m\u001b[0mself\u001b[0m\u001b[1;33m,\u001b[0m \u001b[0mkey\u001b[0m\u001b[1;33m:\u001b[0m \u001b[0mslice\u001b[0m\u001b[1;33m,\u001b[0m \u001b[0mvalue\u001b[0m\u001b[1;33m)\u001b[0m\u001b[1;33m:\u001b[0m\u001b[1;33m\u001b[0m\u001b[1;33m\u001b[0m\u001b[0m\n",
      "\u001b[1;32m~\\anaconda\\envs\\algotrading\\lib\\site-packages\\pandas\\core\\frame.py\u001b[0m in \u001b[0;36m_set_item\u001b[1;34m(self, key, value)\u001b[0m\n\u001b[0;32m   3241\u001b[0m         \u001b[0mself\u001b[0m\u001b[1;33m.\u001b[0m\u001b[0m_ensure_valid_index\u001b[0m\u001b[1;33m(\u001b[0m\u001b[0mvalue\u001b[0m\u001b[1;33m)\u001b[0m\u001b[1;33m\u001b[0m\u001b[1;33m\u001b[0m\u001b[0m\n\u001b[0;32m   3242\u001b[0m         \u001b[0mvalue\u001b[0m \u001b[1;33m=\u001b[0m \u001b[0mself\u001b[0m\u001b[1;33m.\u001b[0m\u001b[0m_sanitize_column\u001b[0m\u001b[1;33m(\u001b[0m\u001b[0mkey\u001b[0m\u001b[1;33m,\u001b[0m \u001b[0mvalue\u001b[0m\u001b[1;33m)\u001b[0m\u001b[1;33m\u001b[0m\u001b[1;33m\u001b[0m\u001b[0m\n\u001b[1;32m-> 3243\u001b[1;33m         \u001b[0mNDFrame\u001b[0m\u001b[1;33m.\u001b[0m\u001b[0m_set_item\u001b[0m\u001b[1;33m(\u001b[0m\u001b[0mself\u001b[0m\u001b[1;33m,\u001b[0m \u001b[0mkey\u001b[0m\u001b[1;33m,\u001b[0m \u001b[0mvalue\u001b[0m\u001b[1;33m)\u001b[0m\u001b[1;33m\u001b[0m\u001b[1;33m\u001b[0m\u001b[0m\n\u001b[0m\u001b[0;32m   3244\u001b[0m \u001b[1;33m\u001b[0m\u001b[0m\n\u001b[0;32m   3245\u001b[0m         \u001b[1;31m# check if we are modifying a copy\u001b[0m\u001b[1;33m\u001b[0m\u001b[1;33m\u001b[0m\u001b[1;33m\u001b[0m\u001b[0m\n",
      "\u001b[1;32m~\\anaconda\\envs\\algotrading\\lib\\site-packages\\pandas\\core\\generic.py\u001b[0m in \u001b[0;36m_set_item\u001b[1;34m(self, key, value)\u001b[0m\n\u001b[0;32m   3827\u001b[0m         \u001b[1;32mexcept\u001b[0m \u001b[0mKeyError\u001b[0m\u001b[1;33m:\u001b[0m\u001b[1;33m\u001b[0m\u001b[1;33m\u001b[0m\u001b[0m\n\u001b[0;32m   3828\u001b[0m             \u001b[1;31m# This item wasn't present, just insert at end\u001b[0m\u001b[1;33m\u001b[0m\u001b[1;33m\u001b[0m\u001b[1;33m\u001b[0m\u001b[0m\n\u001b[1;32m-> 3829\u001b[1;33m             \u001b[0mself\u001b[0m\u001b[1;33m.\u001b[0m\u001b[0m_mgr\u001b[0m\u001b[1;33m.\u001b[0m\u001b[0minsert\u001b[0m\u001b[1;33m(\u001b[0m\u001b[0mlen\u001b[0m\u001b[1;33m(\u001b[0m\u001b[0mself\u001b[0m\u001b[1;33m.\u001b[0m\u001b[0m_info_axis\u001b[0m\u001b[1;33m)\u001b[0m\u001b[1;33m,\u001b[0m \u001b[0mkey\u001b[0m\u001b[1;33m,\u001b[0m \u001b[0mvalue\u001b[0m\u001b[1;33m)\u001b[0m\u001b[1;33m\u001b[0m\u001b[1;33m\u001b[0m\u001b[0m\n\u001b[0m\u001b[0;32m   3830\u001b[0m             \u001b[1;32mreturn\u001b[0m\u001b[1;33m\u001b[0m\u001b[1;33m\u001b[0m\u001b[0m\n\u001b[0;32m   3831\u001b[0m \u001b[1;33m\u001b[0m\u001b[0m\n",
      "\u001b[1;32m~\\anaconda\\envs\\algotrading\\lib\\site-packages\\pandas\\core\\internals\\managers.py\u001b[0m in \u001b[0;36minsert\u001b[1;34m(self, loc, item, value, allow_duplicates)\u001b[0m\n\u001b[0;32m   1201\u001b[0m             \u001b[0mvalue\u001b[0m \u001b[1;33m=\u001b[0m \u001b[0msafe_reshape\u001b[0m\u001b[1;33m(\u001b[0m\u001b[0mvalue\u001b[0m\u001b[1;33m,\u001b[0m \u001b[1;33m(\u001b[0m\u001b[1;36m1\u001b[0m\u001b[1;33m,\u001b[0m\u001b[1;33m)\u001b[0m \u001b[1;33m+\u001b[0m \u001b[0mvalue\u001b[0m\u001b[1;33m.\u001b[0m\u001b[0mshape\u001b[0m\u001b[1;33m)\u001b[0m\u001b[1;33m\u001b[0m\u001b[1;33m\u001b[0m\u001b[0m\n\u001b[0;32m   1202\u001b[0m \u001b[1;33m\u001b[0m\u001b[0m\n\u001b[1;32m-> 1203\u001b[1;33m         \u001b[0mblock\u001b[0m \u001b[1;33m=\u001b[0m \u001b[0mmake_block\u001b[0m\u001b[1;33m(\u001b[0m\u001b[0mvalues\u001b[0m\u001b[1;33m=\u001b[0m\u001b[0mvalue\u001b[0m\u001b[1;33m,\u001b[0m \u001b[0mndim\u001b[0m\u001b[1;33m=\u001b[0m\u001b[0mself\u001b[0m\u001b[1;33m.\u001b[0m\u001b[0mndim\u001b[0m\u001b[1;33m,\u001b[0m \u001b[0mplacement\u001b[0m\u001b[1;33m=\u001b[0m\u001b[0mslice\u001b[0m\u001b[1;33m(\u001b[0m\u001b[0mloc\u001b[0m\u001b[1;33m,\u001b[0m \u001b[0mloc\u001b[0m \u001b[1;33m+\u001b[0m \u001b[1;36m1\u001b[0m\u001b[1;33m)\u001b[0m\u001b[1;33m)\u001b[0m\u001b[1;33m\u001b[0m\u001b[1;33m\u001b[0m\u001b[0m\n\u001b[0m\u001b[0;32m   1204\u001b[0m \u001b[1;33m\u001b[0m\u001b[0m\n\u001b[0;32m   1205\u001b[0m         \u001b[1;32mfor\u001b[0m \u001b[0mblkno\u001b[0m\u001b[1;33m,\u001b[0m \u001b[0mcount\u001b[0m \u001b[1;32min\u001b[0m \u001b[0m_fast_count_smallints\u001b[0m\u001b[1;33m(\u001b[0m\u001b[0mself\u001b[0m\u001b[1;33m.\u001b[0m\u001b[0mblknos\u001b[0m\u001b[1;33m[\u001b[0m\u001b[0mloc\u001b[0m\u001b[1;33m:\u001b[0m\u001b[1;33m]\u001b[0m\u001b[1;33m)\u001b[0m\u001b[1;33m:\u001b[0m\u001b[1;33m\u001b[0m\u001b[1;33m\u001b[0m\u001b[0m\n",
      "\u001b[1;32m~\\anaconda\\envs\\algotrading\\lib\\site-packages\\pandas\\core\\internals\\blocks.py\u001b[0m in \u001b[0;36mmake_block\u001b[1;34m(values, placement, klass, ndim, dtype)\u001b[0m\n\u001b[0;32m   2740\u001b[0m         \u001b[0mvalues\u001b[0m \u001b[1;33m=\u001b[0m \u001b[0mDatetimeArray\u001b[0m\u001b[1;33m.\u001b[0m\u001b[0m_simple_new\u001b[0m\u001b[1;33m(\u001b[0m\u001b[0mvalues\u001b[0m\u001b[1;33m,\u001b[0m \u001b[0mdtype\u001b[0m\u001b[1;33m=\u001b[0m\u001b[0mdtype\u001b[0m\u001b[1;33m)\u001b[0m\u001b[1;33m\u001b[0m\u001b[1;33m\u001b[0m\u001b[0m\n\u001b[0;32m   2741\u001b[0m \u001b[1;33m\u001b[0m\u001b[0m\n\u001b[1;32m-> 2742\u001b[1;33m     \u001b[1;32mreturn\u001b[0m \u001b[0mklass\u001b[0m\u001b[1;33m(\u001b[0m\u001b[0mvalues\u001b[0m\u001b[1;33m,\u001b[0m \u001b[0mndim\u001b[0m\u001b[1;33m=\u001b[0m\u001b[0mndim\u001b[0m\u001b[1;33m,\u001b[0m \u001b[0mplacement\u001b[0m\u001b[1;33m=\u001b[0m\u001b[0mplacement\u001b[0m\u001b[1;33m)\u001b[0m\u001b[1;33m\u001b[0m\u001b[1;33m\u001b[0m\u001b[0m\n\u001b[0m\u001b[0;32m   2743\u001b[0m \u001b[1;33m\u001b[0m\u001b[0m\n\u001b[0;32m   2744\u001b[0m \u001b[1;33m\u001b[0m\u001b[0m\n",
      "\u001b[1;32m~\\anaconda\\envs\\algotrading\\lib\\site-packages\\pandas\\core\\internals\\blocks.py\u001b[0m in \u001b[0;36m__init__\u001b[1;34m(self, values, placement, ndim)\u001b[0m\n\u001b[0;32m    141\u001b[0m         \u001b[1;32mif\u001b[0m \u001b[0mself\u001b[0m\u001b[1;33m.\u001b[0m\u001b[0m_validate_ndim\u001b[0m \u001b[1;32mand\u001b[0m \u001b[0mself\u001b[0m\u001b[1;33m.\u001b[0m\u001b[0mndim\u001b[0m \u001b[1;32mand\u001b[0m \u001b[0mlen\u001b[0m\u001b[1;33m(\u001b[0m\u001b[0mself\u001b[0m\u001b[1;33m.\u001b[0m\u001b[0mmgr_locs\u001b[0m\u001b[1;33m)\u001b[0m \u001b[1;33m!=\u001b[0m \u001b[0mlen\u001b[0m\u001b[1;33m(\u001b[0m\u001b[0mself\u001b[0m\u001b[1;33m.\u001b[0m\u001b[0mvalues\u001b[0m\u001b[1;33m)\u001b[0m\u001b[1;33m:\u001b[0m\u001b[1;33m\u001b[0m\u001b[1;33m\u001b[0m\u001b[0m\n\u001b[0;32m    142\u001b[0m             raise ValueError(\n\u001b[1;32m--> 143\u001b[1;33m                 \u001b[1;34mf\"Wrong number of items passed {len(self.values)}, \"\u001b[0m\u001b[1;33m\u001b[0m\u001b[1;33m\u001b[0m\u001b[0m\n\u001b[0m\u001b[0;32m    144\u001b[0m                 \u001b[1;34mf\"placement implies {len(self.mgr_locs)}\"\u001b[0m\u001b[1;33m\u001b[0m\u001b[1;33m\u001b[0m\u001b[0m\n\u001b[0;32m    145\u001b[0m             )\n",
      "\u001b[1;31mValueError\u001b[0m: Wrong number of items passed 3, placement implies 1"
     ]
    }
   ],
   "source": [
    "ticker_transformed = pipeline.fit_transform(ticker)"
   ]
  },
  {
   "cell_type": "code",
   "execution_count": null,
   "id": "8a143d4a",
   "metadata": {},
   "outputs": [],
   "source": [
    "# X_transformed.plot()"
   ]
  },
  {
   "cell_type": "code",
   "execution_count": null,
   "id": "2839168c",
   "metadata": {},
   "outputs": [],
   "source": [
    "ticker_transformed.plot()"
   ]
  },
  {
   "cell_type": "code",
   "execution_count": null,
   "id": "1d6fa6da",
   "metadata": {},
   "outputs": [],
   "source": [
    "# X_transformed.tail()"
   ]
  },
  {
   "cell_type": "code",
   "execution_count": null,
   "id": "d8002731",
   "metadata": {},
   "outputs": [],
   "source": [
    "ticker_transformed.tail()"
   ]
  },
  {
   "cell_type": "markdown",
   "id": "dd359be3",
   "metadata": {},
   "source": [
    "## Plot Results"
   ]
  },
  {
   "cell_type": "code",
   "execution_count": null,
   "id": "e0529b7c",
   "metadata": {},
   "outputs": [],
   "source": [
    "# Plot the results\n",
    "#ax = X_transformed.plot(linewidth=1.5)\n",
    "# ax = X_transformed.rename(columns={'close': 'close (input)'}).plot()\n",
    "# ax.set_title('Stock Price vs. Time (Synthetic Data)')\n",
    "# ax.set_xlabel('Number of Business Days')\n",
    "# ax.set_ylabel('Stock Price ($US)')\n",
    "# ax.legend(title='Pipeline Results', ncol=1)\n",
    "# plt.show()"
   ]
  },
  {
   "cell_type": "code",
   "execution_count": null,
   "id": "be7919ab",
   "metadata": {},
   "outputs": [],
   "source": [
    "# Plot the results\n",
    "ax = ticker_transformed.plot(linewidth=1.5)\n",
    "ax = ticker_transformed.rename(columns={'close': 'close (input)'}).plot()\n",
    "ax.set_title('Stock Price vs. Time (Synthetic Data)')\n",
    "ax.set_xlabel('Number of Business Days')\n",
    "ax.set_ylabel('Stock Price ($US)')\n",
    "ax.legend(title='Pipeline Results', ncol=1)\n",
    "# plt.show()"
   ]
  },
  {
   "cell_type": "code",
   "execution_count": null,
   "id": "5f27d127",
   "metadata": {},
   "outputs": [],
   "source": [
    "# from matplotlib import pyplot as plt\n",
    "plot_stoch('AAPL', ticker_transformed['close'], ticker_transformed['%K'],ticker_transformed['%D'])"
   ]
  },
  {
   "cell_type": "code",
   "execution_count": null,
   "id": "e25e56ca",
   "metadata": {},
   "outputs": [],
   "source": [
    "buy_price, sell_price, stoch_signal = implement_stoch_strategy(ticker_transformed['close'], ticker_transformed['%K'], ticker_transformed['%D'])\n",
    "plot_sell_buy(ticker_transformed, buy_price, sell_price, stoch_signal)"
   ]
  },
  {
   "cell_type": "markdown",
   "id": "fa302c82",
   "metadata": {},
   "source": [
    "# Ichimoku Cloud Plot\n"
   ]
  },
  {
   "cell_type": "code",
   "execution_count": null,
   "id": "90143077",
   "metadata": {},
   "outputs": [],
   "source": [
    "kijun_sen_plot(ticker_transformed,kijun_window)"
   ]
  },
  {
   "cell_type": "code",
   "execution_count": null,
   "id": "4cab1126",
   "metadata": {},
   "outputs": [],
   "source": [
    "tenkan_sen_plot(ticker_transformed, tenkan_window )"
   ]
  },
  {
   "cell_type": "code",
   "execution_count": null,
   "id": "99076fdb",
   "metadata": {},
   "outputs": [],
   "source": [
    "Senkou_Span_plot(ticker_transformed, senkou_span_b_window)"
   ]
  },
  {
   "cell_type": "code",
   "execution_count": null,
   "id": "6751cd78",
   "metadata": {},
   "outputs": [],
   "source": [
    "Chikou_plot(ticker_transformed, chikou_shift)"
   ]
  },
  {
   "cell_type": "code",
   "execution_count": null,
   "id": "1c84e961",
   "metadata": {},
   "outputs": [],
   "source": [
    "plot_ichimoku(ticker_transformed,  view_limit=100)"
   ]
  },
  {
   "cell_type": "code",
   "execution_count": null,
   "id": "bd3d14b3",
   "metadata": {},
   "outputs": [],
   "source": []
  },
  {
   "cell_type": "markdown",
   "id": "86677354",
   "metadata": {},
   "source": [
    "# Fibonacci Retracement Plot"
   ]
  },
  {
   "cell_type": "code",
   "execution_count": null,
   "id": "194dce99",
   "metadata": {},
   "outputs": [],
   "source": [
    "\n",
    "fib_retracement_plot(\n",
    "    ticker_transformed,\n",
    "    ticker_transformed['fib_close_min'][0],\n",
    "    ticker_transformed['fib_level_1'][0],\n",
    "    ticker_transformed['fib_level_2'][0], \n",
    "    ticker_transformed['fib_level_3'][0],\n",
    "    ticker_transformed['fib_level_4'][0],\n",
    "    ticker_transformed['fib_close_max'][0])"
   ]
  },
  {
   "cell_type": "code",
   "execution_count": null,
   "id": "60e25df1",
   "metadata": {},
   "outputs": [],
   "source": []
  }
 ],
 "metadata": {
  "kernelspec": {
   "display_name": "Python 3",
   "language": "python",
   "name": "python3"
  },
  "language_info": {
   "codemirror_mode": {
    "name": "ipython",
    "version": 3
   },
   "file_extension": ".py",
   "mimetype": "text/x-python",
   "name": "python",
   "nbconvert_exporter": "python",
   "pygments_lexer": "ipython3",
   "version": "3.7.10"
  }
 },
 "nbformat": 4,
 "nbformat_minor": 5
}
