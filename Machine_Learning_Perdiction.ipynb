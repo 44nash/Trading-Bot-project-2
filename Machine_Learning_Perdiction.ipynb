{
 "cells": [
  {
   "cell_type": "code",
   "execution_count": 1,
   "metadata": {},
   "outputs": [
    {
     "name": "stderr",
     "output_type": "stream",
     "text": [
      "\n",
      "Bad key \"text.kerning_factor\" on line 4 in\n",
      "C:\\Users\\44nas\\anaconda3\\envs\\pyvizenv\\lib\\site-packages\\matplotlib\\mpl-data\\stylelib\\_classic_test_patch.mplstyle.\n",
      "You probably need to get an updated matplotlibrc file from\n",
      "http://github.com/matplotlib/matplotlib/blob/master/matplotlibrc.template\n",
      "or from the matplotlib source distribution\n"
     ]
    }
   ],
   "source": [
    "# Import the usual suspects....\n",
    "import numpy as np\n",
    "import pandas as pd\n",
    "import matplotlib.pyplot as plt\n",
    "from sklearn.pipeline import Pipeline\n",
    "\n",
    "\n",
    "import pandas_datareader as pdr\n",
    "import datetime as dt\n",
    "import quandl\n",
    "\n",
    "\n",
    "import pandas as pd\n",
    "import numpy as np\n",
    "import requests\n",
    "from termcolor import colored as cl\n",
    "from math import floor\n",
    "import matplotlib.pyplot as plt\n",
    "plt.rcParams['figure.figsize'] = (20, 10)\n",
    "plt.style.use('fivethirtyeight')\n",
    "\n",
    "\n",
    "import os\n",
    "import random\n",
    "import numpy as np\n",
    "from pylab import mpl, plt\n",
    "plt.style.use('seaborn')\n",
    "mpl.rcParams['savefig.dpi'] = 300\n",
    "mpl.rcParams['font.family'] = 'serif'\n"
   ]
  },
  {
   "cell_type": "code",
   "execution_count": 2,
   "metadata": {},
   "outputs": [],
   "source": [
    "import alpaca_trade_api as tradeapi\n",
    "from dotenv import load_dotenv\n",
    "import os\n",
    "import pandas as pd\n",
    "\n",
    "from get_api_df import *"
   ]
  },
  {
   "cell_type": "code",
   "execution_count": 3,
   "metadata": {},
   "outputs": [
    {
     "name": "stderr",
     "output_type": "stream",
     "text": [
      "Python-dotenv could not parse statement starting at line 11\n"
     ]
    }
   ],
   "source": [
    "ticker = get_api_df()"
   ]
  },
  {
   "cell_type": "code",
   "execution_count": 4,
   "metadata": {},
   "outputs": [
    {
     "data": {
      "text/html": [
       "<div>\n",
       "<style scoped>\n",
       "    .dataframe tbody tr th:only-of-type {\n",
       "        vertical-align: middle;\n",
       "    }\n",
       "\n",
       "    .dataframe tbody tr th {\n",
       "        vertical-align: top;\n",
       "    }\n",
       "\n",
       "    .dataframe thead th {\n",
       "        text-align: right;\n",
       "    }\n",
       "</style>\n",
       "<table border=\"1\" class=\"dataframe\">\n",
       "  <thead>\n",
       "    <tr style=\"text-align: right;\">\n",
       "      <th></th>\n",
       "      <th>open</th>\n",
       "      <th>high</th>\n",
       "      <th>low</th>\n",
       "      <th>close</th>\n",
       "      <th>volume</th>\n",
       "    </tr>\n",
       "    <tr>\n",
       "      <th>time</th>\n",
       "      <th></th>\n",
       "      <th></th>\n",
       "      <th></th>\n",
       "      <th></th>\n",
       "      <th></th>\n",
       "    </tr>\n",
       "  </thead>\n",
       "  <tbody>\n",
       "    <tr>\n",
       "      <th>2021-06-28 00:00:00-04:00</th>\n",
       "      <td>133.42</td>\n",
       "      <td>135.245</td>\n",
       "      <td>133.350</td>\n",
       "      <td>134.75</td>\n",
       "      <td>53815255</td>\n",
       "    </tr>\n",
       "    <tr>\n",
       "      <th>2021-06-29 00:00:00-04:00</th>\n",
       "      <td>134.82</td>\n",
       "      <td>136.490</td>\n",
       "      <td>134.350</td>\n",
       "      <td>136.33</td>\n",
       "      <td>55081959</td>\n",
       "    </tr>\n",
       "    <tr>\n",
       "      <th>2021-06-30 00:00:00-04:00</th>\n",
       "      <td>136.17</td>\n",
       "      <td>137.410</td>\n",
       "      <td>135.870</td>\n",
       "      <td>136.94</td>\n",
       "      <td>51014239</td>\n",
       "    </tr>\n",
       "    <tr>\n",
       "      <th>2021-07-01 00:00:00-04:00</th>\n",
       "      <td>136.60</td>\n",
       "      <td>137.330</td>\n",
       "      <td>135.760</td>\n",
       "      <td>137.27</td>\n",
       "      <td>46267213</td>\n",
       "    </tr>\n",
       "    <tr>\n",
       "      <th>2021-07-02 00:00:00-04:00</th>\n",
       "      <td>137.92</td>\n",
       "      <td>140.000</td>\n",
       "      <td>137.745</td>\n",
       "      <td>139.96</td>\n",
       "      <td>69160944</td>\n",
       "    </tr>\n",
       "  </tbody>\n",
       "</table>\n",
       "</div>"
      ],
      "text/plain": [
       "                             open     high      low   close    volume\n",
       "time                                                                 \n",
       "2021-06-28 00:00:00-04:00  133.42  135.245  133.350  134.75  53815255\n",
       "2021-06-29 00:00:00-04:00  134.82  136.490  134.350  136.33  55081959\n",
       "2021-06-30 00:00:00-04:00  136.17  137.410  135.870  136.94  51014239\n",
       "2021-07-01 00:00:00-04:00  136.60  137.330  135.760  137.27  46267213\n",
       "2021-07-02 00:00:00-04:00  137.92  140.000  137.745  139.96  69160944"
      ]
     },
     "execution_count": 4,
     "metadata": {},
     "output_type": "execute_result"
    }
   ],
   "source": [
    "ticker.tail()"
   ]
  },
  {
   "cell_type": "code",
   "execution_count": 5,
   "metadata": {},
   "outputs": [],
   "source": [
    "ticker['return'] = np.log(ticker['close'] / ticker['close'].shift(1))"
   ]
  },
  {
   "cell_type": "code",
   "execution_count": 6,
   "metadata": {},
   "outputs": [],
   "source": [
    "ticker.dropna(inplace=True)"
   ]
  },
  {
   "cell_type": "code",
   "execution_count": 7,
   "metadata": {},
   "outputs": [],
   "source": [
    "lags = 5\n",
    "cols = []\n",
    "for lag in range(1, lags + 1):\n",
    "    col = 'lag_{}'.format(lag)\n",
    "    ticker[col] = ticker['return'].shift(lag)\n",
    "    cols.append(col)\n",
    "    \n",
    "ticker.dropna(inplace=True)"
   ]
  },
  {
   "cell_type": "code",
   "execution_count": 8,
   "metadata": {},
   "outputs": [
    {
     "data": {
      "text/html": [
       "<div>\n",
       "<style scoped>\n",
       "    .dataframe tbody tr th:only-of-type {\n",
       "        vertical-align: middle;\n",
       "    }\n",
       "\n",
       "    .dataframe tbody tr th {\n",
       "        vertical-align: top;\n",
       "    }\n",
       "\n",
       "    .dataframe thead th {\n",
       "        text-align: right;\n",
       "    }\n",
       "</style>\n",
       "<table border=\"1\" class=\"dataframe\">\n",
       "  <thead>\n",
       "    <tr style=\"text-align: right;\">\n",
       "      <th></th>\n",
       "      <th>open</th>\n",
       "      <th>high</th>\n",
       "      <th>low</th>\n",
       "      <th>close</th>\n",
       "      <th>volume</th>\n",
       "      <th>return</th>\n",
       "      <th>lag_1</th>\n",
       "      <th>lag_2</th>\n",
       "      <th>lag_3</th>\n",
       "      <th>lag_4</th>\n",
       "      <th>lag_5</th>\n",
       "    </tr>\n",
       "    <tr>\n",
       "      <th>time</th>\n",
       "      <th></th>\n",
       "      <th></th>\n",
       "      <th></th>\n",
       "      <th></th>\n",
       "      <th></th>\n",
       "      <th></th>\n",
       "      <th></th>\n",
       "      <th></th>\n",
       "      <th></th>\n",
       "      <th></th>\n",
       "      <th></th>\n",
       "    </tr>\n",
       "  </thead>\n",
       "  <tbody>\n",
       "    <tr>\n",
       "      <th>2021-06-29 00:00:00-04:00</th>\n",
       "      <td>134.82</td>\n",
       "      <td>136.49</td>\n",
       "      <td>134.350</td>\n",
       "      <td>136.33</td>\n",
       "      <td>55081959</td>\n",
       "      <td>0.011657</td>\n",
       "      <td>0.012245</td>\n",
       "      <td>-0.002176</td>\n",
       "      <td>-0.002246</td>\n",
       "      <td>-0.002017</td>\n",
       "      <td>0.012619</td>\n",
       "    </tr>\n",
       "    <tr>\n",
       "      <th>2021-06-30 00:00:00-04:00</th>\n",
       "      <td>136.17</td>\n",
       "      <td>137.41</td>\n",
       "      <td>135.870</td>\n",
       "      <td>136.94</td>\n",
       "      <td>51014239</td>\n",
       "      <td>0.004464</td>\n",
       "      <td>0.011657</td>\n",
       "      <td>0.012245</td>\n",
       "      <td>-0.002176</td>\n",
       "      <td>-0.002246</td>\n",
       "      <td>-0.002017</td>\n",
       "    </tr>\n",
       "    <tr>\n",
       "      <th>2021-07-01 00:00:00-04:00</th>\n",
       "      <td>136.60</td>\n",
       "      <td>137.33</td>\n",
       "      <td>135.760</td>\n",
       "      <td>137.27</td>\n",
       "      <td>46267213</td>\n",
       "      <td>0.002407</td>\n",
       "      <td>0.004464</td>\n",
       "      <td>0.011657</td>\n",
       "      <td>0.012245</td>\n",
       "      <td>-0.002176</td>\n",
       "      <td>-0.002246</td>\n",
       "    </tr>\n",
       "    <tr>\n",
       "      <th>2021-07-02 00:00:00-04:00</th>\n",
       "      <td>137.92</td>\n",
       "      <td>140.00</td>\n",
       "      <td>137.745</td>\n",
       "      <td>139.96</td>\n",
       "      <td>69160944</td>\n",
       "      <td>0.019407</td>\n",
       "      <td>0.002407</td>\n",
       "      <td>0.004464</td>\n",
       "      <td>0.011657</td>\n",
       "      <td>0.012245</td>\n",
       "      <td>-0.002176</td>\n",
       "    </tr>\n",
       "  </tbody>\n",
       "</table>\n",
       "</div>"
      ],
      "text/plain": [
       "                             open    high      low   close    volume  \\\n",
       "time                                                                   \n",
       "2021-06-29 00:00:00-04:00  134.82  136.49  134.350  136.33  55081959   \n",
       "2021-06-30 00:00:00-04:00  136.17  137.41  135.870  136.94  51014239   \n",
       "2021-07-01 00:00:00-04:00  136.60  137.33  135.760  137.27  46267213   \n",
       "2021-07-02 00:00:00-04:00  137.92  140.00  137.745  139.96  69160944   \n",
       "\n",
       "                             return     lag_1     lag_2     lag_3     lag_4  \\\n",
       "time                                                                          \n",
       "2021-06-29 00:00:00-04:00  0.011657  0.012245 -0.002176 -0.002246 -0.002017   \n",
       "2021-06-30 00:00:00-04:00  0.004464  0.011657  0.012245 -0.002176 -0.002246   \n",
       "2021-07-01 00:00:00-04:00  0.002407  0.004464  0.011657  0.012245 -0.002176   \n",
       "2021-07-02 00:00:00-04:00  0.019407  0.002407  0.004464  0.011657  0.012245   \n",
       "\n",
       "                              lag_5  \n",
       "time                                 \n",
       "2021-06-29 00:00:00-04:00  0.012619  \n",
       "2021-06-30 00:00:00-04:00 -0.002017  \n",
       "2021-07-01 00:00:00-04:00 -0.002246  \n",
       "2021-07-02 00:00:00-04:00 -0.002176  "
      ]
     },
     "execution_count": 8,
     "metadata": {},
     "output_type": "execute_result"
    }
   ],
   "source": [
    "ticker.tail(4)"
   ]
  },
  {
   "cell_type": "code",
   "execution_count": 9,
   "metadata": {},
   "outputs": [],
   "source": [
    "from sklearn.metrics import accuracy_score\n",
    "from sklearn import linear_model"
   ]
  },
  {
   "cell_type": "code",
   "execution_count": 10,
   "metadata": {},
   "outputs": [],
   "source": [
    "lm = linear_model.LogisticRegression(C=1e7, solver='lbfgs',\n",
    "                                    multi_class='auto',\n",
    "                                    max_iter=1000)"
   ]
  },
  {
   "cell_type": "code",
   "execution_count": 11,
   "metadata": {},
   "outputs": [
    {
     "data": {
      "text/plain": [
       "LogisticRegression(C=10000000.0, max_iter=1000)"
      ]
     },
     "execution_count": 11,
     "metadata": {},
     "output_type": "execute_result"
    }
   ],
   "source": [
    "lm.fit(ticker[cols], np.sign(ticker['return']))"
   ]
  },
  {
   "cell_type": "code",
   "execution_count": 12,
   "metadata": {},
   "outputs": [],
   "source": [
    "ticker['prediction'] = lm.predict(ticker[cols])"
   ]
  },
  {
   "cell_type": "code",
   "execution_count": 13,
   "metadata": {},
   "outputs": [
    {
     "data": {
      "text/plain": [
       " 1.0    51\n",
       "-1.0    43\n",
       "Name: prediction, dtype: int64"
      ]
     },
     "execution_count": 13,
     "metadata": {},
     "output_type": "execute_result"
    }
   ],
   "source": [
    "ticker['prediction'].value_counts() "
   ]
  },
  {
   "cell_type": "code",
   "execution_count": 21,
   "metadata": {},
   "outputs": [
    {
     "data": {
      "text/html": [
       "<div>\n",
       "<style scoped>\n",
       "    .dataframe tbody tr th:only-of-type {\n",
       "        vertical-align: middle;\n",
       "    }\n",
       "\n",
       "    .dataframe tbody tr th {\n",
       "        vertical-align: top;\n",
       "    }\n",
       "\n",
       "    .dataframe thead th {\n",
       "        text-align: right;\n",
       "    }\n",
       "</style>\n",
       "<table border=\"1\" class=\"dataframe\">\n",
       "  <thead>\n",
       "    <tr style=\"text-align: right;\">\n",
       "      <th></th>\n",
       "      <th>open</th>\n",
       "      <th>high</th>\n",
       "      <th>low</th>\n",
       "      <th>close</th>\n",
       "      <th>volume</th>\n",
       "      <th>return</th>\n",
       "      <th>lag_1</th>\n",
       "      <th>lag_2</th>\n",
       "      <th>lag_3</th>\n",
       "      <th>lag_4</th>\n",
       "      <th>lag_5</th>\n",
       "      <th>prediction</th>\n",
       "      <th>strategy</th>\n",
       "    </tr>\n",
       "    <tr>\n",
       "      <th>time</th>\n",
       "      <th></th>\n",
       "      <th></th>\n",
       "      <th></th>\n",
       "      <th></th>\n",
       "      <th></th>\n",
       "      <th></th>\n",
       "      <th></th>\n",
       "      <th></th>\n",
       "      <th></th>\n",
       "      <th></th>\n",
       "      <th></th>\n",
       "      <th></th>\n",
       "      <th></th>\n",
       "    </tr>\n",
       "  </thead>\n",
       "  <tbody>\n",
       "    <tr>\n",
       "      <th>2021-02-19 00:00:00-05:00</th>\n",
       "      <td>130.24</td>\n",
       "      <td>130.7100</td>\n",
       "      <td>128.80</td>\n",
       "      <td>129.85</td>\n",
       "      <td>79960220</td>\n",
       "      <td>0.001058</td>\n",
       "      <td>-0.008653</td>\n",
       "      <td>-0.017576</td>\n",
       "      <td>-0.016534</td>\n",
       "      <td>0.001922</td>\n",
       "      <td>-0.001775</td>\n",
       "      <td>1.0</td>\n",
       "      <td>0.001058</td>\n",
       "    </tr>\n",
       "    <tr>\n",
       "      <th>2021-02-22 00:00:00-05:00</th>\n",
       "      <td>128.01</td>\n",
       "      <td>129.7200</td>\n",
       "      <td>125.60</td>\n",
       "      <td>126.01</td>\n",
       "      <td>93993093</td>\n",
       "      <td>-0.030019</td>\n",
       "      <td>0.001058</td>\n",
       "      <td>-0.008653</td>\n",
       "      <td>-0.017576</td>\n",
       "      <td>-0.016534</td>\n",
       "      <td>0.001922</td>\n",
       "      <td>-1.0</td>\n",
       "      <td>0.030019</td>\n",
       "    </tr>\n",
       "    <tr>\n",
       "      <th>2021-02-23 00:00:00-05:00</th>\n",
       "      <td>123.76</td>\n",
       "      <td>126.7100</td>\n",
       "      <td>118.39</td>\n",
       "      <td>125.85</td>\n",
       "      <td>148286878</td>\n",
       "      <td>-0.001271</td>\n",
       "      <td>-0.030019</td>\n",
       "      <td>0.001058</td>\n",
       "      <td>-0.008653</td>\n",
       "      <td>-0.017576</td>\n",
       "      <td>-0.016534</td>\n",
       "      <td>1.0</td>\n",
       "      <td>-0.001271</td>\n",
       "    </tr>\n",
       "    <tr>\n",
       "      <th>2021-02-24 00:00:00-05:00</th>\n",
       "      <td>124.94</td>\n",
       "      <td>125.5600</td>\n",
       "      <td>122.23</td>\n",
       "      <td>125.32</td>\n",
       "      <td>102399167</td>\n",
       "      <td>-0.004220</td>\n",
       "      <td>-0.001271</td>\n",
       "      <td>-0.030019</td>\n",
       "      <td>0.001058</td>\n",
       "      <td>-0.008653</td>\n",
       "      <td>-0.017576</td>\n",
       "      <td>-1.0</td>\n",
       "      <td>0.004220</td>\n",
       "    </tr>\n",
       "    <tr>\n",
       "      <th>2021-02-25 00:00:00-05:00</th>\n",
       "      <td>124.68</td>\n",
       "      <td>126.4585</td>\n",
       "      <td>120.54</td>\n",
       "      <td>121.00</td>\n",
       "      <td>134693926</td>\n",
       "      <td>-0.035080</td>\n",
       "      <td>-0.004220</td>\n",
       "      <td>-0.001271</td>\n",
       "      <td>-0.030019</td>\n",
       "      <td>0.001058</td>\n",
       "      <td>-0.008653</td>\n",
       "      <td>1.0</td>\n",
       "      <td>-0.035080</td>\n",
       "    </tr>\n",
       "  </tbody>\n",
       "</table>\n",
       "</div>"
      ],
      "text/plain": [
       "                             open      high     low   close     volume  \\\n",
       "time                                                                     \n",
       "2021-02-19 00:00:00-05:00  130.24  130.7100  128.80  129.85   79960220   \n",
       "2021-02-22 00:00:00-05:00  128.01  129.7200  125.60  126.01   93993093   \n",
       "2021-02-23 00:00:00-05:00  123.76  126.7100  118.39  125.85  148286878   \n",
       "2021-02-24 00:00:00-05:00  124.94  125.5600  122.23  125.32  102399167   \n",
       "2021-02-25 00:00:00-05:00  124.68  126.4585  120.54  121.00  134693926   \n",
       "\n",
       "                             return     lag_1     lag_2     lag_3     lag_4  \\\n",
       "time                                                                          \n",
       "2021-02-19 00:00:00-05:00  0.001058 -0.008653 -0.017576 -0.016534  0.001922   \n",
       "2021-02-22 00:00:00-05:00 -0.030019  0.001058 -0.008653 -0.017576 -0.016534   \n",
       "2021-02-23 00:00:00-05:00 -0.001271 -0.030019  0.001058 -0.008653 -0.017576   \n",
       "2021-02-24 00:00:00-05:00 -0.004220 -0.001271 -0.030019  0.001058 -0.008653   \n",
       "2021-02-25 00:00:00-05:00 -0.035080 -0.004220 -0.001271 -0.030019  0.001058   \n",
       "\n",
       "                              lag_5  prediction  strategy  \n",
       "time                                                       \n",
       "2021-02-19 00:00:00-05:00 -0.001775         1.0  0.001058  \n",
       "2021-02-22 00:00:00-05:00  0.001922        -1.0  0.030019  \n",
       "2021-02-23 00:00:00-05:00 -0.016534         1.0 -0.001271  \n",
       "2021-02-24 00:00:00-05:00 -0.017576        -1.0  0.004220  \n",
       "2021-02-25 00:00:00-05:00 -0.008653         1.0 -0.035080  "
      ]
     },
     "execution_count": 21,
     "metadata": {},
     "output_type": "execute_result"
    }
   ],
   "source": [
    "ticker.head()"
   ]
  },
  {
   "cell_type": "code",
   "execution_count": 14,
   "metadata": {},
   "outputs": [],
   "source": [
    "hits = np.sign(ticker['return'].iloc[lags:] *\n",
    "              ticker['prediction'].iloc[lags:]).value_counts()"
   ]
  },
  {
   "cell_type": "code",
   "execution_count": 15,
   "metadata": {},
   "outputs": [
    {
     "data": {
      "text/plain": [
       " 1.0    55\n",
       "-1.0    34\n",
       "dtype: int64"
      ]
     },
     "execution_count": 15,
     "metadata": {},
     "output_type": "execute_result"
    }
   ],
   "source": [
    "hits"
   ]
  },
  {
   "cell_type": "code",
   "execution_count": 16,
   "metadata": {},
   "outputs": [
    {
     "data": {
      "text/plain": [
       "0.6170212765957447"
      ]
     },
     "execution_count": 16,
     "metadata": {},
     "output_type": "execute_result"
    }
   ],
   "source": [
    "accuracy_score(ticker['prediction'],\n",
    "              np.sign(ticker['return']))"
   ]
  },
  {
   "cell_type": "code",
   "execution_count": 17,
   "metadata": {},
   "outputs": [],
   "source": [
    "ticker['strategy'] = ticker['prediction'] * ticker['return']"
   ]
  },
  {
   "cell_type": "code",
   "execution_count": 18,
   "metadata": {},
   "outputs": [
    {
     "data": {
      "text/plain": [
       "return      1.079000\n",
       "strategy    1.556346\n",
       "dtype: float64"
      ]
     },
     "execution_count": 18,
     "metadata": {},
     "output_type": "execute_result"
    }
   ],
   "source": [
    "ticker[['return','strategy']].sum().apply(np.exp)"
   ]
  },
  {
   "cell_type": "code",
   "execution_count": 19,
   "metadata": {},
   "outputs": [
    {
     "data": {
      "text/plain": [
       "<matplotlib.axes._subplots.AxesSubplot at 0x290208957c8>"
      ]
     },
     "execution_count": 19,
     "metadata": {},
     "output_type": "execute_result"
    },
    {
     "data": {
      "image/png": "[encoded data removed]",
      "text/plain": [
       "<Figure size 720x432 with 1 Axes>"
      ]
     },
     "metadata": {},
     "output_type": "display_data"
    }
   ],
   "source": [
    "ticker[['return','strategy']].cumsum().apply(np.exp).plot(figsize=(10,6))"
   ]
  },
  {
   "cell_type": "code",
   "execution_count": 20,
   "metadata": {},
   "outputs": [
    {
     "data": {
      "text/html": [
       "<div>\n",
       "<style scoped>\n",
       "    .dataframe tbody tr th:only-of-type {\n",
       "        vertical-align: middle;\n",
       "    }\n",
       "\n",
       "    .dataframe tbody tr th {\n",
       "        vertical-align: top;\n",
       "    }\n",
       "\n",
       "    .dataframe thead th {\n",
       "        text-align: right;\n",
       "    }\n",
       "</style>\n",
       "<table border=\"1\" class=\"dataframe\">\n",
       "  <thead>\n",
       "    <tr style=\"text-align: right;\">\n",
       "      <th></th>\n",
       "      <th>open</th>\n",
       "      <th>high</th>\n",
       "      <th>low</th>\n",
       "      <th>close</th>\n",
       "      <th>volume</th>\n",
       "      <th>return</th>\n",
       "      <th>lag_1</th>\n",
       "      <th>lag_2</th>\n",
       "      <th>lag_3</th>\n",
       "      <th>lag_4</th>\n",
       "      <th>lag_5</th>\n",
       "      <th>prediction</th>\n",
       "      <th>strategy</th>\n",
       "    </tr>\n",
       "    <tr>\n",
       "      <th>time</th>\n",
       "      <th></th>\n",
       "      <th></th>\n",
       "      <th></th>\n",
       "      <th></th>\n",
       "      <th></th>\n",
       "      <th></th>\n",
       "      <th></th>\n",
       "      <th></th>\n",
       "      <th></th>\n",
       "      <th></th>\n",
       "      <th></th>\n",
       "      <th></th>\n",
       "      <th></th>\n",
       "    </tr>\n",
       "  </thead>\n",
       "  <tbody>\n",
       "    <tr>\n",
       "      <th>2021-06-28 00:00:00-04:00</th>\n",
       "      <td>133.42</td>\n",
       "      <td>135.245</td>\n",
       "      <td>133.350</td>\n",
       "      <td>134.75</td>\n",
       "      <td>53815255</td>\n",
       "      <td>0.012245</td>\n",
       "      <td>-0.002176</td>\n",
       "      <td>-0.002246</td>\n",
       "      <td>-0.002017</td>\n",
       "      <td>0.012619</td>\n",
       "      <td>0.014390</td>\n",
       "      <td>1.0</td>\n",
       "      <td>0.012245</td>\n",
       "    </tr>\n",
       "    <tr>\n",
       "      <th>2021-06-29 00:00:00-04:00</th>\n",
       "      <td>134.82</td>\n",
       "      <td>136.490</td>\n",
       "      <td>134.350</td>\n",
       "      <td>136.33</td>\n",
       "      <td>55081959</td>\n",
       "      <td>0.011657</td>\n",
       "      <td>0.012245</td>\n",
       "      <td>-0.002176</td>\n",
       "      <td>-0.002246</td>\n",
       "      <td>-0.002017</td>\n",
       "      <td>0.012619</td>\n",
       "      <td>-1.0</td>\n",
       "      <td>-0.011657</td>\n",
       "    </tr>\n",
       "    <tr>\n",
       "      <th>2021-06-30 00:00:00-04:00</th>\n",
       "      <td>136.17</td>\n",
       "      <td>137.410</td>\n",
       "      <td>135.870</td>\n",
       "      <td>136.94</td>\n",
       "      <td>51014239</td>\n",
       "      <td>0.004464</td>\n",
       "      <td>0.011657</td>\n",
       "      <td>0.012245</td>\n",
       "      <td>-0.002176</td>\n",
       "      <td>-0.002246</td>\n",
       "      <td>-0.002017</td>\n",
       "      <td>-1.0</td>\n",
       "      <td>-0.004464</td>\n",
       "    </tr>\n",
       "    <tr>\n",
       "      <th>2021-07-01 00:00:00-04:00</th>\n",
       "      <td>136.60</td>\n",
       "      <td>137.330</td>\n",
       "      <td>135.760</td>\n",
       "      <td>137.27</td>\n",
       "      <td>46267213</td>\n",
       "      <td>0.002407</td>\n",
       "      <td>0.004464</td>\n",
       "      <td>0.011657</td>\n",
       "      <td>0.012245</td>\n",
       "      <td>-0.002176</td>\n",
       "      <td>-0.002246</td>\n",
       "      <td>-1.0</td>\n",
       "      <td>-0.002407</td>\n",
       "    </tr>\n",
       "    <tr>\n",
       "      <th>2021-07-02 00:00:00-04:00</th>\n",
       "      <td>137.92</td>\n",
       "      <td>140.000</td>\n",
       "      <td>137.745</td>\n",
       "      <td>139.96</td>\n",
       "      <td>69160944</td>\n",
       "      <td>0.019407</td>\n",
       "      <td>0.002407</td>\n",
       "      <td>0.004464</td>\n",
       "      <td>0.011657</td>\n",
       "      <td>0.012245</td>\n",
       "      <td>-0.002176</td>\n",
       "      <td>1.0</td>\n",
       "      <td>0.019407</td>\n",
       "    </tr>\n",
       "  </tbody>\n",
       "</table>\n",
       "</div>"
      ],
      "text/plain": [
       "                             open     high      low   close    volume  \\\n",
       "time                                                                    \n",
       "2021-06-28 00:00:00-04:00  133.42  135.245  133.350  134.75  53815255   \n",
       "2021-06-29 00:00:00-04:00  134.82  136.490  134.350  136.33  55081959   \n",
       "2021-06-30 00:00:00-04:00  136.17  137.410  135.870  136.94  51014239   \n",
       "2021-07-01 00:00:00-04:00  136.60  137.330  135.760  137.27  46267213   \n",
       "2021-07-02 00:00:00-04:00  137.92  140.000  137.745  139.96  69160944   \n",
       "\n",
       "                             return     lag_1     lag_2     lag_3     lag_4  \\\n",
       "time                                                                          \n",
       "2021-06-28 00:00:00-04:00  0.012245 -0.002176 -0.002246 -0.002017  0.012619   \n",
       "2021-06-29 00:00:00-04:00  0.011657  0.012245 -0.002176 -0.002246 -0.002017   \n",
       "2021-06-30 00:00:00-04:00  0.004464  0.011657  0.012245 -0.002176 -0.002246   \n",
       "2021-07-01 00:00:00-04:00  0.002407  0.004464  0.011657  0.012245 -0.002176   \n",
       "2021-07-02 00:00:00-04:00  0.019407  0.002407  0.004464  0.011657  0.012245   \n",
       "\n",
       "                              lag_5  prediction  strategy  \n",
       "time                                                       \n",
       "2021-06-28 00:00:00-04:00  0.014390         1.0  0.012245  \n",
       "2021-06-29 00:00:00-04:00  0.012619        -1.0 -0.011657  \n",
       "2021-06-30 00:00:00-04:00 -0.002017        -1.0 -0.004464  \n",
       "2021-07-01 00:00:00-04:00 -0.002246        -1.0 -0.002407  \n",
       "2021-07-02 00:00:00-04:00 -0.002176         1.0  0.019407  "
      ]
     },
     "execution_count": 20,
     "metadata": {},
     "output_type": "execute_result"
    }
   ],
   "source": [
    "ticker.tail()"
   ]
  },
  {
   "cell_type": "code",
   "execution_count": null,
   "metadata": {},
   "outputs": [],
   "source": []
  }
 ],
 "metadata": {
  "kernelspec": {
   "display_name": "Python [conda env:pyvizenv] *",
   "language": "python",
   "name": "conda-env-pyvizenv-py"
  },
  "language_info": {
   "codemirror_mode": {
    "name": "ipython",
    "version": 3
   },
   "file_extension": ".py",
   "mimetype": "text/x-python",
   "name": "python",
   "nbconvert_exporter": "python",
   "pygments_lexer": "ipython3",
   "version": "3.7.9"
  }
 },
 "nbformat": 4,
 "nbformat_minor": 4
}
