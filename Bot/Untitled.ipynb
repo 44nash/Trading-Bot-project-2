{
 "cells": [
  {
   "cell_type": "code",
   "execution_count": 31,
   "metadata": {},
   "outputs": [],
   "source": [
    "import alpaca_trade_api as tradeapi\n",
    "from alpaca_trade_api import StreamConn\n",
    "import threading\n",
    "import time\n",
    "import datetime\n",
    "import logging\n",
    "import argparse\n",
    "# You must initialize logging, otherwise you'll not see debug output.\n",
    "logging.basicConfig()\n",
    "logging.getLogger().setLevel(logging.DEBUG)\n",
    "requests_log = logging.getLogger(\"requests.packages.urllib3\")\n",
    "requests_log.setLevel(logging.DEBUG)\n",
    "requests_log.propagate = True\n",
    "\n",
    "import os\n",
    "import random\n",
    "import numpy as np\n",
    "from pylab import mpl, plt\n",
    "plt.style.use('seaborn')\n",
    "mpl.rcParams['savefig.dpi'] = 300\n",
    "mpl.rcParams['font.family'] = 'serif'\n",
    "\n",
    "from alpaca_trade_api import StreamConn\n",
    "from alpaca_trade_api.common import URL"
   ]
  },
  {
   "cell_type": "code",
   "execution_count": 32,
   "metadata": {},
   "outputs": [],
   "source": [
    "from Bot import *"
   ]
  },
  {
   "cell_type": "code",
   "execution_count": 33,
   "metadata": {},
   "outputs": [],
   "source": [
    "bot_1 = Bot('AAPL')"
   ]
  },
  {
   "cell_type": "code",
   "execution_count": 34,
   "metadata": {},
   "outputs": [
    {
     "name": "stdout",
     "output_type": "stream",
     "text": [
      "hello\n"
     ]
    }
   ],
   "source": [
    "print(bot_1.hello())"
   ]
  },
  {
   "cell_type": "code",
   "execution_count": 35,
   "metadata": {},
   "outputs": [],
   "source": [
    "# Symbol are in capital\n",
    "\n",
    "# But works :) \n",
    "# bot_1.buy('AAPL')\n",
    "# bot_1.buy()"
   ]
  },
  {
   "cell_type": "code",
   "execution_count": 36,
   "metadata": {},
   "outputs": [
    {
     "name": "stderr",
     "output_type": "stream",
     "text": [
      "DEBUG:urllib3.connectionpool:Starting new HTTPS connection (1): paper-api.alpaca.markets:443\n",
      "DEBUG:urllib3.connectionpool:https://paper-api.alpaca.markets:443 \"GET /v2/positions/AAPL HTTP/1.1\" 200 439\n"
     ]
    },
    {
     "name": "stdout",
     "output_type": "stream",
     "text": [
      "Position({   'asset_class': 'us_equity',\n",
      "    'asset_id': 'b0b6dd9d-8b9b-48a9-ba46-b9d54906e415',\n",
      "    'avg_entry_price': '145.79',\n",
      "    'change_today': '0.0080968858131488',\n",
      "    'cost_basis': '291.58',\n",
      "    'current_price': '145.67',\n",
      "    'exchange': 'NASDAQ',\n",
      "    'lastday_price': '144.5',\n",
      "    'market_value': '291.34',\n",
      "    'qty': '2',\n",
      "    'side': 'long',\n",
      "    'symbol': 'AAPL',\n",
      "    'unrealized_intraday_pl': '2.34',\n",
      "    'unrealized_intraday_plpc': '0.0080968858131488',\n",
      "    'unrealized_pl': '-0.24',\n",
      "    'unrealized_plpc': '-0.0008231017216544'})\n"
     ]
    }
   ],
   "source": [
    "bot_1.get_position()"
   ]
  },
  {
   "cell_type": "code",
   "execution_count": 7,
   "metadata": {},
   "outputs": [],
   "source": [
    "# bot_1.check_symbol_price_crypto()"
   ]
  },
  {
   "cell_type": "code",
   "execution_count": 8,
   "metadata": {},
   "outputs": [],
   "source": [
    "# bot_1.check_symbol_price()"
   ]
  },
  {
   "cell_type": "code",
   "execution_count": 9,
   "metadata": {},
   "outputs": [],
   "source": [
    "# bot_1.check()"
   ]
  },
  {
   "cell_type": "code",
   "execution_count": 10,
   "metadata": {},
   "outputs": [],
   "source": [
    "# pip install polygon-api-client"
   ]
  },
  {
   "cell_type": "code",
   "execution_count": 37,
   "metadata": {},
   "outputs": [
    {
     "name": "stderr",
     "output_type": "stream",
     "text": [
      "WARNING:dotenv.main:Python-dotenv could not parse statement starting at line 11\n"
     ]
    },
    {
     "name": "stdout",
     "output_type": "stream",
     "text": [
      "this is my custom message processing [{\"ev\":\"status\",\"status\":\"connected\",\"message\":\"Connected Successfully\"}]\n",
      "this is my custom message processing [{\"ev\":\"status\",\"status\":\"auth_success\",\"message\":\"authenticated\"},{\"ev\":\"status\",\"status\":\"error\",\"message\":\"not authorized\"}]\n"
     ]
    }
   ],
   "source": [
    "import time\n",
    "load_dotenv(\"../../../../api_keys.env\")\n",
    "\n",
    "from polygon.websocket import WebSocketClient, STOCKS_CLUSTER\n",
    "# polygon/websocket/websocket_client.py\n",
    "\n",
    "def my_custom_process_message(message):\n",
    "    print(\"this is my custom message processing\", message)\n",
    "\n",
    "\n",
    "def my_custom_error_handler(ws, error):\n",
    "    print(\"this is my custom error handler\", error)\n",
    "\n",
    "\n",
    "def my_custom_close_handler(ws):\n",
    "    print(\"this is my custom close handler\")\n",
    "\n",
    "\n",
    "def main():\n",
    "    key = os.getenv(\"evil_einstein\")\n",
    "    my_client = WebSocketClient(STOCKS_CLUSTER, key, my_custom_process_message)\n",
    "    my_client.run_async()\n",
    "\n",
    "    my_client.subscribe(\"AM.MSFT\")\n",
    "    time.sleep(10)\n",
    "\n",
    "    my_client.close_connection()\n",
    "\n",
    "\n",
    "if __name__ == \"__main__\":\n",
    "    main()"
   ]
  },
  {
   "cell_type": "code",
   "execution_count": null,
   "metadata": {},
   "outputs": [],
   "source": []
  }
 ],
 "metadata": {
  "kernelspec": {
   "display_name": "Python [conda env:pyvizenv] *",
   "language": "python",
   "name": "conda-env-pyvizenv-py"
  },
  "language_info": {
   "codemirror_mode": {
    "name": "ipython",
    "version": 3
   },
   "file_extension": ".py",
   "mimetype": "text/x-python",
   "name": "python",
   "nbconvert_exporter": "python",
   "pygments_lexer": "ipython3",
   "version": "3.7.9"
  }
 },
 "nbformat": 4,
 "nbformat_minor": 4
}
