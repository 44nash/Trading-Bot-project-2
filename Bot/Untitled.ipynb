{
 "cells": [
  {
   "cell_type": "code",
   "execution_count": 1,
   "metadata": {},
   "outputs": [
    {
     "name": "stderr",
     "output_type": "stream",
     "text": [
      "DEBUG:matplotlib:CACHEDIR=C:\\Users\\44nas\\.matplotlib\n",
      "DEBUG:matplotlib.font_manager:Using fontManager instance from C:\\Users\\44nas\\.matplotlib\\fontlist-v300.json\n",
      "\n",
      "Bad key \"text.kerning_factor\" on line 4 in\n",
      "C:\\Users\\44nas\\anaconda3\\envs\\pyvizenv\\lib\\site-packages\\matplotlib\\mpl-data\\stylelib\\_classic_test_patch.mplstyle.\n",
      "You probably need to get an updated matplotlibrc file from\n",
      "http://github.com/matplotlib/matplotlib/blob/master/matplotlibrc.template\n",
      "or from the matplotlib source distribution\n",
      "DEBUG:matplotlib.pyplot:Loaded backend module://ipykernel.pylab.backend_inline version unknown.\n",
      "DEBUG:matplotlib.pyplot:Loaded backend module://ipykernel.pylab.backend_inline version unknown.\n"
     ]
    }
   ],
   "source": [
    "import alpaca_trade_api as tradeapi\n",
    "from alpaca_trade_api import StreamConn\n",
    "import threading\n",
    "import time\n",
    "import datetime\n",
    "import logging\n",
    "import argparse\n",
    "# You must initialize logging, otherwise you'll not see debug output.\n",
    "logging.basicConfig()\n",
    "logging.getLogger().setLevel(logging.DEBUG)\n",
    "requests_log = logging.getLogger(\"requests.packages.urllib3\")\n",
    "requests_log.setLevel(logging.DEBUG)\n",
    "requests_log.propagate = True\n",
    "\n",
    "import os\n",
    "import random\n",
    "import numpy as np\n",
    "from pylab import mpl, plt\n",
    "plt.style.use('seaborn')\n",
    "mpl.rcParams['savefig.dpi'] = 300\n",
    "mpl.rcParams['font.family'] = 'serif'\n",
    "\n",
    "from alpaca_trade_api import StreamConn\n",
    "from alpaca_trade_api.common import URL"
   ]
  },
  {
   "cell_type": "code",
   "execution_count": 2,
   "metadata": {},
   "outputs": [
    {
     "name": "stderr",
     "output_type": "stream",
     "text": [
      "WARNING:dotenv.main:Python-dotenv could not parse statement starting at line 11\n"
     ]
    }
   ],
   "source": [
    "from Bot import *"
   ]
  },
  {
   "cell_type": "code",
   "execution_count": 3,
   "metadata": {},
   "outputs": [],
   "source": [
    "bot_1 = Bot('AAPL')"
   ]
  },
  {
   "cell_type": "code",
   "execution_count": 4,
   "metadata": {},
   "outputs": [
    {
     "name": "stdout",
     "output_type": "stream",
     "text": [
      "hello\n"
     ]
    }
   ],
   "source": [
    "print(bot_1.hello())"
   ]
  },
  {
   "cell_type": "code",
   "execution_count": 5,
   "metadata": {},
   "outputs": [],
   "source": [
    "# Symbol are in capital\n",
    "\n",
    "# But works :) \n",
    "# bot_1.buy('AAPL')\n",
    "# bot_1.buy()"
   ]
  },
  {
   "cell_type": "code",
   "execution_count": 6,
   "metadata": {},
   "outputs": [
    {
     "name": "stderr",
     "output_type": "stream",
     "text": [
      "DEBUG:urllib3.connectionpool:Starting new HTTPS connection (1): paper-api.alpaca.markets:443\n",
      "DEBUG:urllib3.connectionpool:https://paper-api.alpaca.markets:443 \"GET /v2/positions/AAPL HTTP/1.1\" 200 441\n"
     ]
    },
    {
     "name": "stdout",
     "output_type": "stream",
     "text": [
      "Position({   'asset_class': 'us_equity',\n",
      "    'asset_id': 'b0b6dd9d-8b9b-48a9-ba46-b9d54906e415',\n",
      "    'avg_entry_price': '145.79',\n",
      "    'change_today': '-0.0048239266763145',\n",
      "    'cost_basis': '291.58',\n",
      "    'current_price': '144.41',\n",
      "    'exchange': 'NASDAQ',\n",
      "    'lastday_price': '145.11',\n",
      "    'market_value': '288.82',\n",
      "    'qty': '2',\n",
      "    'side': 'long',\n",
      "    'symbol': 'AAPL',\n",
      "    'unrealized_intraday_pl': '-2.76',\n",
      "    'unrealized_intraday_plpc': '-0.009465669799026',\n",
      "    'unrealized_pl': '-2.76',\n",
      "    'unrealized_plpc': '-0.009465669799026'})\n"
     ]
    }
   ],
   "source": [
    "bot_1.get_position()"
   ]
  },
  {
   "cell_type": "code",
   "execution_count": 7,
   "metadata": {},
   "outputs": [],
   "source": [
    "# bot_1.check_symbol_price_crypto()"
   ]
  },
  {
   "cell_type": "code",
   "execution_count": 8,
   "metadata": {},
   "outputs": [],
   "source": [
    "# bot_1.check()"
   ]
  },
  {
   "cell_type": "code",
   "execution_count": 9,
   "metadata": {},
   "outputs": [],
   "source": [
    "# pip install polygon-api-client"
   ]
  },
  {
   "cell_type": "code",
   "execution_count": 10,
   "metadata": {},
   "outputs": [],
   "source": [
    "# import time\n",
    "\n",
    "# from polygon import WebSocketClient, STOCKS_CLUSTER\n",
    "\n",
    "\n",
    "# def my_custom_process_message(message):\n",
    "#     print(\"this is my custom message processing\", message)\n",
    "\n",
    "\n",
    "# def my_custom_error_handler(ws, error):\n",
    "#     print(\"this is my custom error handler\", error)\n",
    "\n",
    "\n",
    "# def my_custom_close_handler(ws):\n",
    "#     print(\"this is my custom close handler\")\n",
    "\n",
    "\n",
    "# def main():\n",
    "#     key = '23oh7xy7ZoipBODtz9NTPh8B7z9EZrPG'\n",
    "#     my_client = WebSocketClient(STOCKS_CLUSTER, key, my_custom_process_message)\n",
    "#     my_client.run_async()\n",
    "\n",
    "#     my_client.subscribe(\"T.MSFT\", \"T.AAPL\", \"T.AMD\", \"T.NVDA\")\n",
    "#     time.sleep(1)\n",
    "\n",
    "#     my_client.close_connection()\n",
    "\n",
    "\n",
    "# main()"
   ]
  },
  {
   "cell_type": "code",
   "execution_count": null,
   "metadata": {},
   "outputs": [],
   "source": []
  }
 ],
 "metadata": {
  "kernelspec": {
   "display_name": "Python [conda env:pyvizenv] *",
   "language": "python",
   "name": "conda-env-pyvizenv-py"
  },
  "language_info": {
   "codemirror_mode": {
    "name": "ipython",
    "version": 3
   },
   "file_extension": ".py",
   "mimetype": "text/x-python",
   "name": "python",
   "nbconvert_exporter": "python",
   "pygments_lexer": "ipython3",
   "version": "3.7.9"
  }
 },
 "nbformat": 4,
 "nbformat_minor": 4
}
