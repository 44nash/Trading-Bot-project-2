{
 "cells": [
  {
   "cell_type": "code",
   "execution_count": 1,
   "metadata": {},
   "outputs": [
    {
     "name": "stderr",
     "output_type": "stream",
     "text": [
      "DEBUG:matplotlib:CACHEDIR=C:\\Users\\44nas\\.matplotlib\n",
      "DEBUG:matplotlib.font_manager:Using fontManager instance from C:\\Users\\44nas\\.matplotlib\\fontlist-v300.json\n",
      "\n",
      "Bad key \"text.kerning_factor\" on line 4 in\n",
      "C:\\Users\\44nas\\anaconda3\\envs\\pyvizenv\\lib\\site-packages\\matplotlib\\mpl-data\\stylelib\\_classic_test_patch.mplstyle.\n",
      "You probably need to get an updated matplotlibrc file from\n",
      "http://github.com/matplotlib/matplotlib/blob/master/matplotlibrc.template\n",
      "or from the matplotlib source distribution\n",
      "DEBUG:matplotlib.pyplot:Loaded backend module://ipykernel.pylab.backend_inline version unknown.\n",
      "DEBUG:matplotlib.pyplot:Loaded backend module://ipykernel.pylab.backend_inline version unknown.\n"
     ]
    }
   ],
   "source": [
    "import alpaca_trade_api as tradeapi\n",
    "from alpaca_trade_api import StreamConn\n",
    "import threading\n",
    "import time\n",
    "import datetime\n",
    "import logging\n",
    "import argparse\n",
    "# You must initialize logging, otherwise you'll not see debug output.\n",
    "logging.basicConfig()\n",
    "logging.getLogger().setLevel(logging.DEBUG)\n",
    "requests_log = logging.getLogger(\"requests.packages.urllib3\")\n",
    "requests_log.setLevel(logging.DEBUG)\n",
    "requests_log.propagate = True\n",
    "\n",
    "import os\n",
    "import random\n",
    "import numpy as np\n",
    "from pylab import mpl, plt\n",
    "plt.style.use('seaborn')\n",
    "mpl.rcParams['savefig.dpi'] = 300\n",
    "mpl.rcParams['font.family'] = 'serif'\n",
    "\n",
    "from alpaca_trade_api import StreamConn\n",
    "from alpaca_trade_api.common import URL\n",
    "\n",
    "import time\n",
    "load_dotenv(\"../../../../api_keys.env\")\n",
    "\n",
    "from polygon.websocket import WebSocketClient, STOCKS_CLUSTER"
   ]
  },
  {
   "cell_type": "code",
   "execution_count": 2,
   "metadata": {},
   "outputs": [
    {
     "name": "stderr",
     "output_type": "stream",
     "text": [
      "WARNING:dotenv.main:Python-dotenv could not parse statement starting at line 11\n"
     ]
    }
   ],
   "source": [
    "from Bot import *"
   ]
  },
  {
   "cell_type": "code",
   "execution_count": 3,
   "metadata": {},
   "outputs": [],
   "source": [
    "bot_AAPL = Bot('AAPL')"
   ]
  },
  {
   "cell_type": "code",
   "execution_count": 4,
   "metadata": {},
   "outputs": [
    {
     "name": "stderr",
     "output_type": "stream",
     "text": [
      "DEBUG:urllib3.connectionpool:Starting new HTTPS connection (1): paper-api.alpaca.markets:443\n",
      "DEBUG:urllib3.connectionpool:https://paper-api.alpaca.markets:443 \"GET /v2/positions/AAPL HTTP/1.1\" 200 442\n"
     ]
    },
    {
     "name": "stdout",
     "output_type": "stream",
     "text": [
      "Position({   'asset_class': 'us_equity',\n",
      "    'asset_id': 'b0b6dd9d-8b9b-48a9-ba46-b9d54906e415',\n",
      "    'avg_entry_price': '145.79',\n",
      "    'change_today': '-0.0013045866520187',\n",
      "    'cost_basis': '291.58',\n",
      "    'current_price': '145.45',\n",
      "    'exchange': 'NASDAQ',\n",
      "    'lastday_price': '145.64',\n",
      "    'market_value': '290.9',\n",
      "    'qty': '2',\n",
      "    'side': 'long',\n",
      "    'symbol': 'AAPL',\n",
      "    'unrealized_intraday_pl': '-0.38',\n",
      "    'unrealized_intraday_plpc': '-0.0013045866520187',\n",
      "    'unrealized_pl': '-0.68',\n",
      "    'unrealized_plpc': '-0.0023321215446876'})\n",
      "hello\n"
     ]
    }
   ],
   "source": [
    "print(bot_AAPL.hello())"
   ]
  },
  {
   "cell_type": "code",
   "execution_count": 5,
   "metadata": {},
   "outputs": [],
   "source": [
    "# Symbol are in capital\n",
    "\n",
    "# But works :) \n",
    "# bot_1.buy('AAPL')\n",
    "# bot_1.buy()"
   ]
  },
  {
   "cell_type": "code",
   "execution_count": 6,
   "metadata": {},
   "outputs": [
    {
     "name": "stderr",
     "output_type": "stream",
     "text": [
      "DEBUG:urllib3.connectionpool:https://paper-api.alpaca.markets:443 \"GET /v2/positions/AAPL HTTP/1.1\" 200 442\n"
     ]
    },
    {
     "name": "stdout",
     "output_type": "stream",
     "text": [
      "Position({   'asset_class': 'us_equity',\n",
      "    'asset_id': 'b0b6dd9d-8b9b-48a9-ba46-b9d54906e415',\n",
      "    'avg_entry_price': '145.79',\n",
      "    'change_today': '-0.0013045866520187',\n",
      "    'cost_basis': '291.58',\n",
      "    'current_price': '145.45',\n",
      "    'exchange': 'NASDAQ',\n",
      "    'lastday_price': '145.64',\n",
      "    'market_value': '290.9',\n",
      "    'qty': '2',\n",
      "    'side': 'long',\n",
      "    'symbol': 'AAPL',\n",
      "    'unrealized_intraday_pl': '-0.38',\n",
      "    'unrealized_intraday_plpc': '-0.0013045866520187',\n",
      "    'unrealized_pl': '-0.68',\n",
      "    'unrealized_plpc': '-0.0023321215446876'})\n"
     ]
    }
   ],
   "source": [
    "bot_AAPL.get_position()"
   ]
  },
  {
   "cell_type": "code",
   "execution_count": 7,
   "metadata": {},
   "outputs": [
    {
     "name": "stderr",
     "output_type": "stream",
     "text": [
      "ERROR:root:error while consuming ws messages: This event loop is already running\n"
     ]
    },
    {
     "ename": "RuntimeError",
     "evalue": "This event loop is already running",
     "output_type": "error",
     "traceback": [
      "\u001b[1;31m---------------------------------------------------------------------------\u001b[0m",
      "\u001b[1;31mRuntimeError\u001b[0m                              Traceback (most recent call last)",
      "\u001b[1;32m~\\anaconda3\\envs\\pyvizenv\\lib\\site-packages\\alpaca_trade_api\\stream2.py\u001b[0m in \u001b[0;36mrun\u001b[1;34m(self, initial_channels)\u001b[0m\n\u001b[0;32m    338\u001b[0m                     \u001b[0mloop\u001b[0m \u001b[1;33m=\u001b[0m \u001b[0mself\u001b[0m\u001b[1;33m.\u001b[0m\u001b[0mloop\u001b[0m\u001b[1;33m\u001b[0m\u001b[1;33m\u001b[0m\u001b[0m\n\u001b[1;32m--> 339\u001b[1;33m                 \u001b[0mloop\u001b[0m\u001b[1;33m.\u001b[0m\u001b[0mrun_until_complete\u001b[0m\u001b[1;33m(\u001b[0m\u001b[0mself\u001b[0m\u001b[1;33m.\u001b[0m\u001b[0msubscribe\u001b[0m\u001b[1;33m(\u001b[0m\u001b[0minitial_channels\u001b[0m\u001b[1;33m)\u001b[0m\u001b[1;33m)\u001b[0m\u001b[1;33m\u001b[0m\u001b[1;33m\u001b[0m\u001b[0m\n\u001b[0m\u001b[0;32m    340\u001b[0m                 \u001b[0mloop\u001b[0m\u001b[1;33m.\u001b[0m\u001b[0mrun_until_complete\u001b[0m\u001b[1;33m(\u001b[0m\u001b[0mself\u001b[0m\u001b[1;33m.\u001b[0m\u001b[0mconsume\u001b[0m\u001b[1;33m(\u001b[0m\u001b[1;33m)\u001b[0m\u001b[1;33m)\u001b[0m\u001b[1;33m\u001b[0m\u001b[1;33m\u001b[0m\u001b[0m\n",
      "\u001b[1;32m~\\anaconda3\\envs\\pyvizenv\\lib\\asyncio\\base_events.py\u001b[0m in \u001b[0;36mrun_until_complete\u001b[1;34m(self, future)\u001b[0m\n\u001b[0;32m    562\u001b[0m         \u001b[0mself\u001b[0m\u001b[1;33m.\u001b[0m\u001b[0m_check_closed\u001b[0m\u001b[1;33m(\u001b[0m\u001b[1;33m)\u001b[0m\u001b[1;33m\u001b[0m\u001b[1;33m\u001b[0m\u001b[0m\n\u001b[1;32m--> 563\u001b[1;33m         \u001b[0mself\u001b[0m\u001b[1;33m.\u001b[0m\u001b[0m_check_runnung\u001b[0m\u001b[1;33m(\u001b[0m\u001b[1;33m)\u001b[0m\u001b[1;33m\u001b[0m\u001b[1;33m\u001b[0m\u001b[0m\n\u001b[0m\u001b[0;32m    564\u001b[0m \u001b[1;33m\u001b[0m\u001b[0m\n",
      "\u001b[1;32m~\\anaconda3\\envs\\pyvizenv\\lib\\asyncio\\base_events.py\u001b[0m in \u001b[0;36m_check_runnung\u001b[1;34m(self)\u001b[0m\n\u001b[0;32m    522\u001b[0m         \u001b[1;32mif\u001b[0m \u001b[0mself\u001b[0m\u001b[1;33m.\u001b[0m\u001b[0mis_running\u001b[0m\u001b[1;33m(\u001b[0m\u001b[1;33m)\u001b[0m\u001b[1;33m:\u001b[0m\u001b[1;33m\u001b[0m\u001b[1;33m\u001b[0m\u001b[0m\n\u001b[1;32m--> 523\u001b[1;33m             \u001b[1;32mraise\u001b[0m \u001b[0mRuntimeError\u001b[0m\u001b[1;33m(\u001b[0m\u001b[1;34m'This event loop is already running'\u001b[0m\u001b[1;33m)\u001b[0m\u001b[1;33m\u001b[0m\u001b[1;33m\u001b[0m\u001b[0m\n\u001b[0m\u001b[0;32m    524\u001b[0m         \u001b[1;32mif\u001b[0m \u001b[0mevents\u001b[0m\u001b[1;33m.\u001b[0m\u001b[0m_get_running_loop\u001b[0m\u001b[1;33m(\u001b[0m\u001b[1;33m)\u001b[0m \u001b[1;32mis\u001b[0m \u001b[1;32mnot\u001b[0m \u001b[1;32mNone\u001b[0m\u001b[1;33m:\u001b[0m\u001b[1;33m\u001b[0m\u001b[1;33m\u001b[0m\u001b[0m\n",
      "\u001b[1;31mRuntimeError\u001b[0m: This event loop is already running",
      "\nDuring handling of the above exception, another exception occurred:\n",
      "\u001b[1;31mRuntimeError\u001b[0m                              Traceback (most recent call last)",
      "\u001b[1;32m<ipython-input-7-ac89bd0f399e>\u001b[0m in \u001b[0;36m<module>\u001b[1;34m\u001b[0m\n\u001b[1;32m----> 1\u001b[1;33m \u001b[0mbot_AAPL\u001b[0m\u001b[1;33m.\u001b[0m\u001b[0mrun\u001b[0m\u001b[1;33m(\u001b[0m\u001b[1;33m)\u001b[0m\u001b[1;33m\u001b[0m\u001b[1;33m\u001b[0m\u001b[0m\n\u001b[0m",
      "\u001b[1;32m~\\Desktop\\BootCamp\\zzz\\Trading-Bot-project-2\\Bot\\Bot.py\u001b[0m in \u001b[0;36mrun\u001b[1;34m(self)\u001b[0m\n\u001b[0;32m     77\u001b[0m         \u001b[0mon_minute\u001b[0m \u001b[1;33m=\u001b[0m \u001b[0mconn\u001b[0m\u001b[1;33m.\u001b[0m\u001b[0mon\u001b[0m\u001b[1;33m(\u001b[0m\u001b[1;34mr'AM$'\u001b[0m\u001b[1;33m)\u001b[0m\u001b[1;33m(\u001b[0m\u001b[0mon_minute\u001b[0m\u001b[1;33m)\u001b[0m\u001b[1;33m\u001b[0m\u001b[1;33m\u001b[0m\u001b[0m\n\u001b[0;32m     78\u001b[0m         \u001b[1;31m# Subscribe to Microsoft Stock\u001b[0m\u001b[1;33m\u001b[0m\u001b[1;33m\u001b[0m\u001b[1;33m\u001b[0m\u001b[0m\n\u001b[1;32m---> 79\u001b[1;33m         \u001b[0mconn\u001b[0m\u001b[1;33m.\u001b[0m\u001b[0mrun\u001b[0m\u001b[1;33m(\u001b[0m\u001b[1;33m[\u001b[0m\u001b[1;34mf'AM.{self.symbol}'\u001b[0m\u001b[1;33m]\u001b[0m\u001b[1;33m)\u001b[0m\u001b[1;33m\u001b[0m\u001b[1;33m\u001b[0m\u001b[0m\n\u001b[0m\u001b[0;32m     80\u001b[0m \u001b[1;33m\u001b[0m\u001b[0m\n\u001b[0;32m     81\u001b[0m \u001b[1;33m\u001b[0m\u001b[0m\n",
      "\u001b[1;32m~\\anaconda3\\envs\\pyvizenv\\lib\\site-packages\\alpaca_trade_api\\stream2.py\u001b[0m in \u001b[0;36mrun\u001b[1;34m(self, initial_channels)\u001b[0m\n\u001b[0;32m    350\u001b[0m                     \u001b[0mself\u001b[0m\u001b[1;33m.\u001b[0m\u001b[0m_stop_stream_queue\u001b[0m\u001b[1;33m.\u001b[0m\u001b[0mget\u001b[0m\u001b[1;33m(\u001b[0m\u001b[1;33m)\u001b[0m\u001b[1;33m\u001b[0m\u001b[1;33m\u001b[0m\u001b[0m\n\u001b[0;32m    351\u001b[0m                     \u001b[0mshould_renew\u001b[0m \u001b[1;33m=\u001b[0m \u001b[1;32mFalse\u001b[0m\u001b[1;33m\u001b[0m\u001b[1;33m\u001b[0m\u001b[0m\n\u001b[1;32m--> 352\u001b[1;33m                 \u001b[0mloop\u001b[0m\u001b[1;33m.\u001b[0m\u001b[0mrun_until_complete\u001b[0m\u001b[1;33m(\u001b[0m\u001b[0mself\u001b[0m\u001b[1;33m.\u001b[0m\u001b[0mclose\u001b[0m\u001b[1;33m(\u001b[0m\u001b[0mshould_renew\u001b[0m\u001b[1;33m)\u001b[0m\u001b[1;33m)\u001b[0m\u001b[1;33m\u001b[0m\u001b[1;33m\u001b[0m\u001b[0m\n\u001b[0m\u001b[0;32m    353\u001b[0m                 \u001b[1;32mif\u001b[0m \u001b[0mloop\u001b[0m\u001b[1;33m.\u001b[0m\u001b[0mis_running\u001b[0m\u001b[1;33m(\u001b[0m\u001b[1;33m)\u001b[0m\u001b[1;33m:\u001b[0m\u001b[1;33m\u001b[0m\u001b[1;33m\u001b[0m\u001b[0m\n\u001b[0;32m    354\u001b[0m                     \u001b[0mloop\u001b[0m\u001b[1;33m.\u001b[0m\u001b[0mclose\u001b[0m\u001b[1;33m(\u001b[0m\u001b[1;33m)\u001b[0m\u001b[1;33m\u001b[0m\u001b[1;33m\u001b[0m\u001b[0m\n",
      "\u001b[1;32m~\\anaconda3\\envs\\pyvizenv\\lib\\asyncio\\base_events.py\u001b[0m in \u001b[0;36mrun_until_complete\u001b[1;34m(self, future)\u001b[0m\n\u001b[0;32m    561\u001b[0m         \"\"\"\n\u001b[0;32m    562\u001b[0m         \u001b[0mself\u001b[0m\u001b[1;33m.\u001b[0m\u001b[0m_check_closed\u001b[0m\u001b[1;33m(\u001b[0m\u001b[1;33m)\u001b[0m\u001b[1;33m\u001b[0m\u001b[1;33m\u001b[0m\u001b[0m\n\u001b[1;32m--> 563\u001b[1;33m         \u001b[0mself\u001b[0m\u001b[1;33m.\u001b[0m\u001b[0m_check_runnung\u001b[0m\u001b[1;33m(\u001b[0m\u001b[1;33m)\u001b[0m\u001b[1;33m\u001b[0m\u001b[1;33m\u001b[0m\u001b[0m\n\u001b[0m\u001b[0;32m    564\u001b[0m \u001b[1;33m\u001b[0m\u001b[0m\n\u001b[0;32m    565\u001b[0m         \u001b[0mnew_task\u001b[0m \u001b[1;33m=\u001b[0m \u001b[1;32mnot\u001b[0m \u001b[0mfutures\u001b[0m\u001b[1;33m.\u001b[0m\u001b[0misfuture\u001b[0m\u001b[1;33m(\u001b[0m\u001b[0mfuture\u001b[0m\u001b[1;33m)\u001b[0m\u001b[1;33m\u001b[0m\u001b[1;33m\u001b[0m\u001b[0m\n",
      "\u001b[1;32m~\\anaconda3\\envs\\pyvizenv\\lib\\asyncio\\base_events.py\u001b[0m in \u001b[0;36m_check_runnung\u001b[1;34m(self)\u001b[0m\n\u001b[0;32m    521\u001b[0m     \u001b[1;32mdef\u001b[0m \u001b[0m_check_runnung\u001b[0m\u001b[1;33m(\u001b[0m\u001b[0mself\u001b[0m\u001b[1;33m)\u001b[0m\u001b[1;33m:\u001b[0m\u001b[1;33m\u001b[0m\u001b[1;33m\u001b[0m\u001b[0m\n\u001b[0;32m    522\u001b[0m         \u001b[1;32mif\u001b[0m \u001b[0mself\u001b[0m\u001b[1;33m.\u001b[0m\u001b[0mis_running\u001b[0m\u001b[1;33m(\u001b[0m\u001b[1;33m)\u001b[0m\u001b[1;33m:\u001b[0m\u001b[1;33m\u001b[0m\u001b[1;33m\u001b[0m\u001b[0m\n\u001b[1;32m--> 523\u001b[1;33m             \u001b[1;32mraise\u001b[0m \u001b[0mRuntimeError\u001b[0m\u001b[1;33m(\u001b[0m\u001b[1;34m'This event loop is already running'\u001b[0m\u001b[1;33m)\u001b[0m\u001b[1;33m\u001b[0m\u001b[1;33m\u001b[0m\u001b[0m\n\u001b[0m\u001b[0;32m    524\u001b[0m         \u001b[1;32mif\u001b[0m \u001b[0mevents\u001b[0m\u001b[1;33m.\u001b[0m\u001b[0m_get_running_loop\u001b[0m\u001b[1;33m(\u001b[0m\u001b[1;33m)\u001b[0m \u001b[1;32mis\u001b[0m \u001b[1;32mnot\u001b[0m \u001b[1;32mNone\u001b[0m\u001b[1;33m:\u001b[0m\u001b[1;33m\u001b[0m\u001b[1;33m\u001b[0m\u001b[0m\n\u001b[0;32m    525\u001b[0m             raise RuntimeError(\n",
      "\u001b[1;31mRuntimeError\u001b[0m: This event loop is already running"
     ]
    }
   ],
   "source": [
    "bot_AAPL.run()"
   ]
  },
  {
   "cell_type": "code",
   "execution_count": null,
   "metadata": {},
   "outputs": [],
   "source": [
    "# bot_1.check_symbol_price_crypto()"
   ]
  },
  {
   "cell_type": "code",
   "execution_count": null,
   "metadata": {},
   "outputs": [],
   "source": [
    "# bot_1.check_symbol_price()"
   ]
  },
  {
   "cell_type": "code",
   "execution_count": null,
   "metadata": {},
   "outputs": [],
   "source": [
    "# bot_1.check()"
   ]
  },
  {
   "cell_type": "code",
   "execution_count": null,
   "metadata": {},
   "outputs": [],
   "source": [
    "# pip install polygon-api-client"
   ]
  },
  {
   "cell_type": "code",
   "execution_count": 35,
   "metadata": {},
   "outputs": [
    {
     "name": "stderr",
     "output_type": "stream",
     "text": [
      "WARNING:dotenv.main:Python-dotenv could not parse statement starting at line 11\n",
      "ERROR:websocket:error from callback <function WebSocketClient.process_message.<locals>.<lambda> at 0x000001DC7D986AF8>: 'c'\n",
      "  File \"C:\\Users\\44nas\\anaconda3\\envs\\pyvizenv\\lib\\site-packages\\websocket\\_app.py\", line 393, in _callback\n",
      "    callback(self, *args)\n",
      "  File \"C:\\Users\\44nas\\Desktop\\BootCamp\\zzz\\Trading-Bot-project-2\\Bot\\polygon\\websocket\\websocket_client.py\", line 90, in <lambda>\n",
      "  File \"<ipython-input-35-0877e43b79aa>\", line 17, in my_custom_process_message\n",
      "    print(message_j[0][\"c\"])\n",
      "ERROR:websocket:error from callback <function WebSocketClient.process_message.<locals>.<lambda> at 0x000001DC7D986AF8>: 'c'\n",
      "  File \"C:\\Users\\44nas\\anaconda3\\envs\\pyvizenv\\lib\\site-packages\\websocket\\_app.py\", line 393, in _callback\n",
      "    callback(self, *args)\n",
      "  File \"C:\\Users\\44nas\\Desktop\\BootCamp\\zzz\\Trading-Bot-project-2\\Bot\\polygon\\websocket\\websocket_client.py\", line 90, in <lambda>\n",
      "  File \"<ipython-input-35-0877e43b79aa>\", line 17, in my_custom_process_message\n",
      "    print(message_j[0][\"c\"])\n",
      "ERROR:websocket:error from callback <function WebSocketClient.process_message.<locals>.<lambda> at 0x000001DC7D986AF8>: 'c'\n",
      "  File \"C:\\Users\\44nas\\anaconda3\\envs\\pyvizenv\\lib\\site-packages\\websocket\\_app.py\", line 393, in _callback\n",
      "    callback(self, *args)\n",
      "  File \"C:\\Users\\44nas\\Desktop\\BootCamp\\zzz\\Trading-Bot-project-2\\Bot\\polygon\\websocket\\websocket_client.py\", line 90, in <lambda>\n",
      "  File \"<ipython-input-35-0877e43b79aa>\", line 17, in my_custom_process_message\n",
      "    print(message_j[0][\"c\"])\n"
     ]
    },
    {
     "name": "stdout",
     "output_type": "stream",
     "text": [
      "this is my custom message processing [{\"ev\":\"status\",\"status\":\"connected\",\"message\":\"Connected Successfully\"}]\n",
      "this is my custom message processing [{\"ev\":\"status\",\"status\":\"auth_success\",\"message\":\"authenticated\"}]\n",
      "this is my custom message processing [{\"ev\":\"status\",\"status\":\"success\",\"message\":\"subscribed to: AM.MSFT\"}]\n",
      "Empty DataFrame\n",
      "Columns: [Price]\n",
      "Index: []\n"
     ]
    }
   ],
   "source": [
    "import time\n",
    "load_dotenv(\"../../../../api_keys.env\")\n",
    "import pandas as pd\n",
    "import json\n",
    "\n",
    "from polygon.websocket import WebSocketClient, STOCKS_CLUSTER\n",
    "WebSocketClient.DEFAULT_HOST = 'delayed.polygon.io'\n",
    "# polygon/websocket/websocket_client.py\n",
    "\n",
    "current_price = 0\n",
    "\n",
    "results = []\n",
    "\n",
    "def my_custom_process_message(message):\n",
    "    print(\"this is my custom message processing\", message)\n",
    "    message_j = json.loads(message)\n",
    "    print(message_j[0][\"c\"])\n",
    "    current_price = message_j[0][\"c\"]\n",
    "    return message\n",
    "\n",
    "\n",
    "def my_custom_error_handler(ws, error):\n",
    "    print(\"this is my custom error handler\", error)\n",
    "\n",
    "\n",
    "def my_custom_close_handler(ws):\n",
    "    print(\"this is my custom close handler\")\n",
    "\n",
    "# https://stackoverflow.com/questions/50066428/how-do-i-save-data-from-websocket\n",
    "def on_message(msg):\n",
    "    results.append(msg)\n",
    "    \n",
    "    \n",
    "def main():\n",
    "    key = os.getenv(\"evil_einstein\")\n",
    "    my_client = WebSocketClient(STOCKS_CLUSTER, key, my_custom_process_message)\n",
    "    my_client.run_async()\n",
    "\n",
    "    my_client.subscribe(\"AM.MSFT\")\n",
    "    \n",
    "    time.sleep(120)\n",
    "    \n",
    "    \n",
    "        \n",
    "    df = pd.DataFrame(results, columns = [\"Price\"])\n",
    "    print(df.head())\n",
    "    \n",
    "    my_client.close_connection()\n",
    "    \n",
    "\n",
    "\n",
    "\n",
    "if __name__ == \"__main__\":\n",
    "    main()"
   ]
  },
  {
   "cell_type": "code",
   "execution_count": 31,
   "metadata": {},
   "outputs": [
    {
     "name": "stdout",
     "output_type": "stream",
     "text": [
      "Empty DataFrame\n",
      "Columns: [Price]\n",
      "Index: []\n",
      "this is my custom message processing [{\"ev\":\"AM\",\"sym\":\"MSFT\",\"v\":104887,\"av\":17001487,\"op\":282.345,\"vw\":283.1934,\"o\":283.02,\"c\":283.3,\"h\":283.55,\"l\":282.99,\"a\":282.632,\"z\":62,\"s\":1626291900000,\"e\":1626291960000}]\n",
      "283.3\n"
     ]
    }
   ],
   "source": [
    "import pandas as pd\n",
    "df = pd.DataFrame(results, columns = [\"Price\"])\n",
    "print(df.head())"
   ]
  },
  {
   "cell_type": "code",
   "execution_count": null,
   "metadata": {},
   "outputs": [],
   "source": [
    "# import pandas as pd\n",
    "# df2 = pd.DataFrame(np.array([[\"AAPL\" ,133, 1]]),\n",
    "#                    columns=['symbol', 'target_price', 'buy_sell'])\n",
    "\n",
    "# df2.tail()"
   ]
  },
  {
   "cell_type": "code",
   "execution_count": null,
   "metadata": {},
   "outputs": [],
   "source": [
    "# df2.to_csv('Daily_csv/daily.csv')"
   ]
  },
  {
   "cell_type": "code",
   "execution_count": null,
   "metadata": {},
   "outputs": [],
   "source": [
    "# daily_data = pd.read_csv('Daily_csv/daily.csv')\n",
    "# target_price = daily_data.target_price[0]\n",
    "# buy_sell = daily_data.buy_sell[0]\n",
    "\n",
    "# print(f'{target_price}v{buy_sell}')"
   ]
  },
  {
   "cell_type": "code",
   "execution_count": null,
   "metadata": {},
   "outputs": [],
   "source": []
  }
 ],
 "metadata": {
  "kernelspec": {
   "display_name": "Python [conda env:pyvizenv] *",
   "language": "python",
   "name": "conda-env-pyvizenv-py"
  },
  "language_info": {
   "codemirror_mode": {
    "name": "ipython",
    "version": 3
   },
   "file_extension": ".py",
   "mimetype": "text/x-python",
   "name": "python",
   "nbconvert_exporter": "python",
   "pygments_lexer": "ipython3",
   "version": "3.7.9"
  }
 },
 "nbformat": 4,
 "nbformat_minor": 4
}
