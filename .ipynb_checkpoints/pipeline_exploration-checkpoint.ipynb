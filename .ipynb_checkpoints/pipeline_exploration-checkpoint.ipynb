{
 "cells": [
  {
   "cell_type": "markdown",
   "metadata": {},
   "source": [
    "# Using `sklearn` Pipelines for Custom Data Transformations\n",
    "\n",
    "The purpose of this notebook is to demonstrate how to perform custom data transformations and analyses using `sklearn` Pipelines.  The relevant Python pseudo-code looks something like this:\n",
    "\n",
    "```python\n",
    "# Let's write a custom data transformer as an example!\n",
    "from sklearn.base import BaseEstimator, TransformerMixin\n",
    "\n",
    "# The code looks something like this:\n",
    "class MyMovingAverageAdder(BaseEstimator, TransformerMixin):\n",
    "    \"\"\"\n",
    "    Custom data transformer, intended to be used as part of a `sklearn` Pipeline.\n",
    "    \n",
    "    See file `./technical_analysis.py` contained in this directory for more details.\n",
    "    \"\"\"\n",
    "    ...\n",
    "\n",
    "```\n",
    "\n",
    "In the code snippet shown above, there are two important points: \n",
    "\n",
    "2. The custom class inherits from `sklearn.base.BaseEstimator` so that we may gain methods `get_params()` and `set_params()`, which are useful in hyperparameter optimization, for example.  \n",
    "1. The custom class inherits from `sklearn.base.TransformerMixin` so that we may gain methods `fit()`, `transform()`, and `fit_transform()`, which are useful in creating data-transformation pipelines, for example.\n",
    "\n",
    "More information can be found in [sklearn.base](https://scikit-learn.org/stable/modules/classes.html?highlight=sklearn%20base#module-sklearn.base).\n"
   ]
  },
  {
   "cell_type": "code",
   "execution_count": 1,
   "metadata": {},
   "outputs": [],
   "source": [
    "# Autoreload modules we're working on so that changes propagate to this notebook\n",
    "%load_ext autoreload\n",
    "%autoreload 1\n",
    "%aimport technical_analysis"
   ]
  },
  {
   "cell_type": "code",
   "execution_count": 2,
   "metadata": {},
   "outputs": [
    {
     "name": "stderr",
     "output_type": "stream",
     "text": [
      "\n",
      "Bad key \"text.kerning_factor\" on line 4 in\n",
      "C:\\Users\\44nas\\anaconda3\\envs\\pyvizenv\\lib\\site-packages\\matplotlib\\mpl-data\\stylelib\\_classic_test_patch.mplstyle.\n",
      "You probably need to get an updated matplotlibrc file from\n",
      "http://github.com/matplotlib/matplotlib/blob/master/matplotlibrc.template\n",
      "or from the matplotlib source distribution\n"
     ]
    }
   ],
   "source": [
    "# Import the usual suspects....\n",
    "import numpy as np\n",
    "import pandas as pd\n",
    "import matplotlib.pyplot as plt\n",
    "from sklearn.pipeline import Pipeline\n",
    "\n",
    "\n",
    "import pandas_datareader as pdr\n",
    "import datetime as dt\n",
    "import quandl\n",
    "\n",
    "\n",
    "import pandas as pd\n",
    "import numpy as np\n",
    "import requests\n",
    "from termcolor import colored as cl\n",
    "from math import floor\n",
    "import matplotlib.pyplot as plt\n",
    "plt.rcParams['figure.figsize'] = (20, 10)\n",
    "plt.style.use('fivethirtyeight')"
   ]
  },
  {
   "cell_type": "code",
   "execution_count": 3,
   "metadata": {},
   "outputs": [],
   "source": [
    "# Here is our custom code!\n",
    "from technical_analysis import *\n",
    "from technical_analysis_m import *"
   ]
  },
  {
   "cell_type": "markdown",
   "metadata": {},
   "source": [
    "## Generate Synthetic Test Data"
   ]
  },
  {
   "cell_type": "code",
   "execution_count": 4,
   "metadata": {},
   "outputs": [
    {
     "data": {
      "text/html": [
       "<div>\n",
       "<style scoped>\n",
       "    .dataframe tbody tr th:only-of-type {\n",
       "        vertical-align: middle;\n",
       "    }\n",
       "\n",
       "    .dataframe tbody tr th {\n",
       "        vertical-align: top;\n",
       "    }\n",
       "\n",
       "    .dataframe thead th {\n",
       "        text-align: right;\n",
       "    }\n",
       "</style>\n",
       "<table border=\"1\" class=\"dataframe\">\n",
       "  <thead>\n",
       "    <tr style=\"text-align: right;\">\n",
       "      <th></th>\n",
       "      <th>close</th>\n",
       "    </tr>\n",
       "  </thead>\n",
       "  <tbody>\n",
       "    <tr>\n",
       "      <th>0</th>\n",
       "      <td>198.996191</td>\n",
       "    </tr>\n",
       "    <tr>\n",
       "      <th>1</th>\n",
       "      <td>199.069044</td>\n",
       "    </tr>\n",
       "    <tr>\n",
       "      <th>2</th>\n",
       "      <td>200.534141</td>\n",
       "    </tr>\n",
       "    <tr>\n",
       "      <th>3</th>\n",
       "      <td>200.296786</td>\n",
       "    </tr>\n",
       "    <tr>\n",
       "      <th>4</th>\n",
       "      <td>200.317351</td>\n",
       "    </tr>\n",
       "  </tbody>\n",
       "</table>\n",
       "</div>"
      ],
      "text/plain": [
       "        close\n",
       "0  198.996191\n",
       "1  199.069044\n",
       "2  200.534141\n",
       "3  200.296786\n",
       "4  200.317351"
      ]
     },
     "execution_count": 4,
     "metadata": {},
     "output_type": "execute_result"
    }
   ],
   "source": [
    "# Define \"percent\" and other units & shorthands (for clarity below)\n",
    "percent = 0.01\n",
    "usd = 1.0  # $US\n",
    "\n",
    "# Generate some test data\n",
    "returns_mean = 0.0 * percent\n",
    "returns_std = 1.0 * percent\n",
    "num_business_days = 252\n",
    "initial_price = 200 * usd\n",
    "returns = returns_mean + (returns_std * np.random.randn(num_business_days))\n",
    "timeseries = initial_price * (1 + pd.DataFrame(data=returns, columns=['close'])).cumprod()\n",
    "X = timeseries.copy()  # shorthand\n",
    "\n",
    "# Display test data\n",
    "X.head()"
   ]
  },
  {
   "cell_type": "code",
   "execution_count": 5,
   "metadata": {},
   "outputs": [],
   "source": [
    "# ticker0 = quandl.get(\"EOD/AAPL\", authtoken=\"YA4KnPAgb7_ouvkkyxKs\")\n",
    "# # print(ticker0.size )\n",
    "# ticker1 = ticker0.copy()\n",
    "# ticker1.columns= ticker0.columns.str.strip().str.lower()\n",
    "# ticker = ticker1.iloc[-30:]\n",
    "# print(ticker.size)\n",
    "# ticker.tail()"
   ]
  },
  {
   "cell_type": "code",
   "execution_count": 6,
   "metadata": {},
   "outputs": [
    {
     "name": "stderr",
     "output_type": "stream",
     "text": [
      "Python-dotenv could not parse statement starting at line 11\n"
     ]
    }
   ],
   "source": [
    "import alpaca_trade_api as tradeapi\n",
    "from dotenv import load_dotenv\n",
    "import os\n",
    "import pandas as pd\n",
    "\n",
    "# https://algotrading101.com/learn/alpaca-trading-api-guide/\n",
    "load_dotenv('../../api_keys.env')\n",
    "\n",
    "# authentication and connection details\n",
    "# print(os.getenv(\"ALPACA_API_KEY\"))\n",
    "api_key = os.getenv(\"ALPACA_API_KEY\")\n",
    "api_secret = os.getenv(\"ALPACA_SECRET_KEY\")\n",
    "base_url = 'https://paper-api.alpaca.markets'\n",
    "\n",
    "# instantiate REST API\n",
    "api = tradeapi.REST(api_key, api_secret, base_url, api_version='v2')\n",
    "\n",
    "# obtain account information\n",
    "account = api.get_account()\n",
    "# print(account)"
   ]
  },
  {
   "cell_type": "code",
   "execution_count": 7,
   "metadata": {},
   "outputs": [
    {
     "data": {
      "text/html": [
       "<div>\n",
       "<style scoped>\n",
       "    .dataframe tbody tr th:only-of-type {\n",
       "        vertical-align: middle;\n",
       "    }\n",
       "\n",
       "    .dataframe tbody tr th {\n",
       "        vertical-align: top;\n",
       "    }\n",
       "\n",
       "    .dataframe thead th {\n",
       "        text-align: right;\n",
       "    }\n",
       "</style>\n",
       "<table border=\"1\" class=\"dataframe\">\n",
       "  <thead>\n",
       "    <tr style=\"text-align: right;\">\n",
       "      <th></th>\n",
       "      <th>open</th>\n",
       "      <th>high</th>\n",
       "      <th>low</th>\n",
       "      <th>close</th>\n",
       "      <th>volume</th>\n",
       "    </tr>\n",
       "    <tr>\n",
       "      <th>time</th>\n",
       "      <th></th>\n",
       "      <th></th>\n",
       "      <th></th>\n",
       "      <th></th>\n",
       "      <th></th>\n",
       "    </tr>\n",
       "  </thead>\n",
       "  <tbody>\n",
       "    <tr>\n",
       "      <th>2021-02-10 00:00:00-05:00</th>\n",
       "      <td>136.48</td>\n",
       "      <td>136.99</td>\n",
       "      <td>134.4000</td>\n",
       "      <td>135.36</td>\n",
       "      <td>66856066</td>\n",
       "    </tr>\n",
       "    <tr>\n",
       "      <th>2021-02-11 00:00:00-05:00</th>\n",
       "      <td>135.90</td>\n",
       "      <td>136.39</td>\n",
       "      <td>133.7700</td>\n",
       "      <td>135.12</td>\n",
       "      <td>59377028</td>\n",
       "    </tr>\n",
       "    <tr>\n",
       "      <th>2021-02-12 00:00:00-05:00</th>\n",
       "      <td>134.35</td>\n",
       "      <td>135.53</td>\n",
       "      <td>133.6921</td>\n",
       "      <td>135.38</td>\n",
       "      <td>54861442</td>\n",
       "    </tr>\n",
       "    <tr>\n",
       "      <th>2021-02-16 00:00:00-05:00</th>\n",
       "      <td>135.49</td>\n",
       "      <td>136.01</td>\n",
       "      <td>132.7900</td>\n",
       "      <td>133.16</td>\n",
       "      <td>72596290</td>\n",
       "    </tr>\n",
       "    <tr>\n",
       "      <th>2021-02-17 00:00:00-05:00</th>\n",
       "      <td>131.25</td>\n",
       "      <td>132.22</td>\n",
       "      <td>129.4700</td>\n",
       "      <td>130.84</td>\n",
       "      <td>92298227</td>\n",
       "    </tr>\n",
       "  </tbody>\n",
       "</table>\n",
       "</div>"
      ],
      "text/plain": [
       "                             open    high       low   close    volume\n",
       "time                                                                 \n",
       "2021-02-10 00:00:00-05:00  136.48  136.99  134.4000  135.36  66856066\n",
       "2021-02-11 00:00:00-05:00  135.90  136.39  133.7700  135.12  59377028\n",
       "2021-02-12 00:00:00-05:00  134.35  135.53  133.6921  135.38  54861442\n",
       "2021-02-16 00:00:00-05:00  135.49  136.01  132.7900  133.16  72596290\n",
       "2021-02-17 00:00:00-05:00  131.25  132.22  129.4700  130.84  92298227"
      ]
     },
     "execution_count": 7,
     "metadata": {},
     "output_type": "execute_result"
    }
   ],
   "source": [
    "\n",
    "today = pd.Timestamp(\"2020-07-14\", tz=\"America/New_York\").isoformat()\n",
    "\n",
    "# tickers = [\"FB\", \"TWTR\", 'AAPL']\n",
    "tickers = ['AAPL']\n",
    "# tickers =[\"FB\"]\n",
    "\n",
    "timeframe = \"1D\"\n",
    "\n",
    "\n",
    "\n",
    "start = pd.Timestamp(\"2017-07-2\", tz=\"America/New_York\").isoformat()\n",
    "end = pd.Timestamp(\"2021-07-2\", tz=\"America/New_York\").isoformat()\n",
    "\n",
    "# Get current closing prices for FB and TWTR\n",
    "ticker0 = api.get_barset(\n",
    "    tickers,\n",
    "    timeframe,\n",
    "    start = start,\n",
    "    end = end,\n",
    ").df\n",
    "\n",
    "ticker = ticker0.copy()\n",
    "ticker.columns= ticker0[\"AAPL\"].columns.str.strip().str.lower()\n",
    "\n",
    "\n",
    "# Display sample data\n",
    "ticker.head(5)"
   ]
  },
  {
   "cell_type": "markdown",
   "metadata": {},
   "source": [
    "## Build Custom Transformation Pipeline"
   ]
  },
  {
   "cell_type": "code",
   "execution_count": 8,
   "metadata": {},
   "outputs": [
    {
     "ename": "TypeError",
     "evalue": "'tuple' object is not callable",
     "output_type": "error",
     "traceback": [
      "\u001b[1;31m---------------------------------------------------------------------------\u001b[0m",
      "\u001b[1;31mTypeError\u001b[0m                                 Traceback (most recent call last)",
      "\u001b[1;32m<ipython-input-8-82dbce2ff9ef>\u001b[0m in \u001b[0;36m<module>\u001b[1;34m\u001b[0m\n\u001b[0;32m      6\u001b[0m     \u001b[1;33m(\u001b[0m\u001b[1;34m'tema20'\u001b[0m\u001b[1;33m,\u001b[0m \u001b[0mMovingAverageAdder\u001b[0m\u001b[1;33m(\u001b[0m\u001b[0mma_type\u001b[0m\u001b[1;33m=\u001b[0m\u001b[1;34m'tema'\u001b[0m\u001b[1;33m,\u001b[0m \u001b[0mwindow\u001b[0m\u001b[1;33m=\u001b[0m\u001b[1;36m20\u001b[0m\u001b[1;33m)\u001b[0m\u001b[1;33m)\u001b[0m\u001b[1;33m,\u001b[0m  \u001b[1;31m# triple exponential moving average (TEMA)\u001b[0m\u001b[1;33m\u001b[0m\u001b[1;33m\u001b[0m\u001b[0m\n\u001b[0;32m      7\u001b[0m     \u001b[1;33m(\u001b[0m\u001b[1;34m'bollinger_band'\u001b[0m\u001b[1;33m,\u001b[0m \u001b[0mBennyIndicators\u001b[0m\u001b[1;33m(\u001b[0m \u001b[0mbb_window\u001b[0m\u001b[1;33m=\u001b[0m\u001b[1;36m20\u001b[0m\u001b[1;33m)\u001b[0m\u001b[1;33m)\u001b[0m\u001b[1;33m\u001b[0m\u001b[1;33m\u001b[0m\u001b[0m\n\u001b[1;32m----> 8\u001b[1;33m     \u001b[1;33m(\u001b[0m\u001b[1;34m'stochastic oscillator'\u001b[0m\u001b[1;33m,\u001b[0m \u001b[0mMarcusIndicators\u001b[0m\u001b[1;33m(\u001b[0m\u001b[0mma_type\u001b[0m\u001b[1;33m=\u001b[0m\u001b[1;34m'stochastic oscillator'\u001b[0m\u001b[1;33m,\u001b[0m \u001b[0mwindow\u001b[0m\u001b[1;33m=\u001b[0m\u001b[1;36m20\u001b[0m\u001b[1;33m)\u001b[0m\u001b[1;33m)\u001b[0m\u001b[1;33m,\u001b[0m\u001b[1;33m\u001b[0m\u001b[1;33m\u001b[0m\u001b[0m\n\u001b[0m\u001b[0;32m      9\u001b[0m     \u001b[1;33m(\u001b[0m\u001b[1;34m'ichimoku cloud'\u001b[0m\u001b[1;33m,\u001b[0m \u001b[0mMarcusIndicators\u001b[0m\u001b[1;33m(\u001b[0m\u001b[0mma_type\u001b[0m\u001b[1;33m=\u001b[0m\u001b[1;34m'ichimoku cloud'\u001b[0m\u001b[1;33m,\u001b[0m \u001b[0mwindow\u001b[0m\u001b[1;33m=\u001b[0m\u001b[1;36m20\u001b[0m\u001b[1;33m)\u001b[0m\u001b[1;33m)\u001b[0m\u001b[1;33m,\u001b[0m\u001b[1;33m\u001b[0m\u001b[1;33m\u001b[0m\u001b[0m\n\u001b[0;32m     10\u001b[0m     \u001b[1;33m(\u001b[0m\u001b[1;34m'fibonacci retracement'\u001b[0m\u001b[1;33m,\u001b[0m \u001b[0mMarcusIndicators\u001b[0m\u001b[1;33m(\u001b[0m\u001b[0mma_type\u001b[0m\u001b[1;33m=\u001b[0m\u001b[1;34m'fibonacci retracement'\u001b[0m\u001b[1;33m,\u001b[0m \u001b[0mwindow\u001b[0m\u001b[1;33m=\u001b[0m\u001b[1;36m20\u001b[0m\u001b[1;33m)\u001b[0m\u001b[1;33m)\u001b[0m\u001b[1;33m,\u001b[0m\u001b[1;33m\u001b[0m\u001b[1;33m\u001b[0m\u001b[0m\n",
      "\u001b[1;31mTypeError\u001b[0m: 'tuple' object is not callable"
     ]
    }
   ],
   "source": [
    "# Build an `sklearn.pipeline.Pipeline`\n",
    "pipeline = Pipeline([\n",
    "    ('sma20', MovingAverageAdder(ma_type='sma', window=20)),  # simple moving average (SMA)\n",
    "    ('ema20', MovingAverageAdder(ma_type='ema', window=20)),  # exponential moving average (EMA)\n",
    "    ('dema20', MovingAverageAdder(ma_type='dema', window=20)),  # double exponential moving average (DEMA)\n",
    "    ('tema20', MovingAverageAdder(ma_type='tema', window=20)),  # triple exponential moving average (TEMA)\n",
    "    ('bollinger_band', BennyIndicators( bb_window=20))\n",
    "    ('stochastic oscillator', MarcusIndicators(ma_type='stochastic oscillator', window=20)),\n",
    "    ('ichimoku cloud', MarcusIndicators(ma_type='ichimoku cloud', window=20)),\n",
    "    ('fibonacci retracement', MarcusIndicators(ma_type='fibonacci retracement', window=20)),\n",
    "    \n",
    "])"
   ]
  },
  {
   "cell_type": "markdown",
   "metadata": {},
   "source": [
    "## Transform Data"
   ]
  },
  {
   "cell_type": "code",
   "execution_count": null,
   "metadata": {},
   "outputs": [],
   "source": [
    "# Transform the input data\n",
    "# X_transformed = pipeline.fit_transform(X)"
   ]
  },
  {
   "cell_type": "code",
   "execution_count": null,
   "metadata": {},
   "outputs": [],
   "source": [
    "ticker_transformed = pipeline.fit_transform(ticker)"
   ]
  },
  {
   "cell_type": "code",
   "execution_count": null,
   "metadata": {},
   "outputs": [],
   "source": [
    "# X_transformed.plot()"
   ]
  },
  {
   "cell_type": "code",
   "execution_count": null,
   "metadata": {},
   "outputs": [],
   "source": [
    "ticker_transformed.plot()"
   ]
  },
  {
   "cell_type": "code",
   "execution_count": null,
   "metadata": {},
   "outputs": [],
   "source": [
    "# X_transformed.tail()"
   ]
  },
  {
   "cell_type": "code",
   "execution_count": null,
   "metadata": {},
   "outputs": [],
   "source": [
    "ticker_transformed.tail()"
   ]
  },
  {
   "cell_type": "markdown",
   "metadata": {},
   "source": [
    "## Plot Results"
   ]
  },
  {
   "cell_type": "code",
   "execution_count": null,
   "metadata": {},
   "outputs": [],
   "source": [
    "# Plot the results\n",
    "#ax = X_transformed.plot(linewidth=1.5)\n",
    "# ax = X_transformed.rename(columns={'close': 'close (input)'}).plot()\n",
    "# ax.set_title('Stock Price vs. Time (Synthetic Data)')\n",
    "# ax.set_xlabel('Number of Business Days')\n",
    "# ax.set_ylabel('Stock Price ($US)')\n",
    "# ax.legend(title='Pipeline Results', ncol=1)\n",
    "# plt.show()"
   ]
  },
  {
   "cell_type": "code",
   "execution_count": null,
   "metadata": {},
   "outputs": [],
   "source": [
    "# Plot the results\n",
    "ax = ticker_transformed.plot(linewidth=1.5)\n",
    "ax = ticker_transformed.rename(columns={'close': 'close (input)'}).plot()\n",
    "ax.set_title('Stock Price vs. Time (Synthetic Data)')\n",
    "ax.set_xlabel('Number of Business Days')\n",
    "ax.set_ylabel('Stock Price ($US)')\n",
    "ax.legend(title='Pipeline Results', ncol=1)\n",
    "# plt.show()"
   ]
  },
  {
   "cell_type": "code",
   "execution_count": null,
   "metadata": {},
   "outputs": [],
   "source": [
    "# from matplotlib import pyplot as plt\n",
    "plot_stoch('AAPL', ticker_transformed['close'], ticker_transformed['%K'],ticker_transformed['%D'])"
   ]
  },
  {
   "cell_type": "code",
   "execution_count": null,
   "metadata": {},
   "outputs": [],
   "source": [
    "buy_price, sell_price, stoch_signal = implement_stoch_strategy(ticker_transformed['close'], ticker_transformed['%K'], ticker_transformed['%D'])\n",
    "plot_sell_buy(ticker_transformed, buy_price, sell_price, stoch_signal)"
   ]
  },
  {
   "cell_type": "markdown",
   "metadata": {},
   "source": [
    "# Ichimoku Cloud Plot\n"
   ]
  },
  {
   "cell_type": "code",
   "execution_count": null,
   "metadata": {},
   "outputs": [],
   "source": [
    "kijun_sen_plot(ticker_transformed,kijun_window)"
   ]
  },
  {
   "cell_type": "code",
   "execution_count": null,
   "metadata": {},
   "outputs": [],
   "source": [
    "tenkan_sen_plot(ticker_transformed, tenkan_window )"
   ]
  },
  {
   "cell_type": "code",
   "execution_count": null,
   "metadata": {},
   "outputs": [],
   "source": [
    "Senkou_Span_plot(ticker_transformed, senkou_span_b_window)"
   ]
  },
  {
   "cell_type": "code",
   "execution_count": null,
   "metadata": {},
   "outputs": [],
   "source": [
    "Chikou_plot(ticker_transformed, chikou_shift)"
   ]
  },
  {
   "cell_type": "code",
   "execution_count": null,
   "metadata": {},
   "outputs": [],
   "source": [
    "plot_ichimoku(ticker_transformed,  view_limit=100)"
   ]
  },
  {
   "cell_type": "code",
   "execution_count": null,
   "metadata": {},
   "outputs": [],
   "source": []
  },
  {
   "cell_type": "markdown",
   "metadata": {},
   "source": [
    "# Fibonacci Retracement Plot"
   ]
  },
  {
   "cell_type": "code",
   "execution_count": null,
   "metadata": {},
   "outputs": [],
   "source": [
    "\n",
    "fib_retracement_plot(\n",
    "    ticker_transformed,\n",
    "    ticker_transformed['fib_close_min'][0],\n",
    "    ticker_transformed['fib_level_1'][0],\n",
    "    ticker_transformed['fib_level_2'][0], \n",
    "    ticker_transformed['fib_level_3'][0],\n",
    "    ticker_transformed['fib_level_4'][0],\n",
    "    ticker_transformed['fib_close_max'][0])"
   ]
  },
  {
   "cell_type": "code",
   "execution_count": null,
   "metadata": {},
   "outputs": [],
   "source": []
  }
 ],
 "metadata": {
  "kernelspec": {
   "display_name": "Python [conda env:pyvizenv] *",
   "language": "python",
   "name": "conda-env-pyvizenv-py"
  },
  "language_info": {
   "codemirror_mode": {
    "name": "ipython",
    "version": 3
   },
   "file_extension": ".py",
   "mimetype": "text/x-python",
   "name": "python",
   "nbconvert_exporter": "python",
   "pygments_lexer": "ipython3",
   "version": "3.7.9"
  }
 },
 "nbformat": 4,
 "nbformat_minor": 5
}
